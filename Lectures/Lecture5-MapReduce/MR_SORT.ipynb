{
 "cells": [
  {
   "cell_type": "markdown",
   "metadata": {},
   "source": [
    "# examine the data\n",
    "First examine the data by loading it in with the %Load command\n",
    "It will fill in the block with the content of the file in the block and comment out the %Load command"
   ]
  },
  {
   "cell_type": "code",
   "execution_count": 1,
   "metadata": {},
   "outputs": [
    {
     "ename": "SyntaxError",
     "evalue": "invalid syntax (<ipython-input-1-064956562e4b>, line 2)",
     "output_type": "error",
     "traceback": [
      "\u001b[1;36m  File \u001b[1;32m\"<ipython-input-1-064956562e4b>\"\u001b[1;36m, line \u001b[1;32m2\u001b[0m\n\u001b[1;33m    1 10\u001b[0m\n\u001b[1;37m       ^\u001b[0m\n\u001b[1;31mSyntaxError\u001b[0m\u001b[1;31m:\u001b[0m invalid syntax\n"
     ]
    }
   ],
   "source": [
    "# %load data/numbers.txt\n",
    "1 10\n",
    "2 11\n",
    "3 3\n",
    "4 12\n",
    "5 4\n",
    "6 1\n",
    "7 1\n",
    "8 41\n",
    "9 532\n",
    "10 2\n",
    "11 0"
   ]
  },
  {
   "cell_type": "markdown",
   "metadata": {},
   "source": [
    "# examine the sorting code \n",
    "Do not run the block a second time"
   ]
  },
  {
   "cell_type": "code",
   "execution_count": 2,
   "metadata": {},
   "outputs": [
    {
     "name": "stderr",
     "output_type": "stream",
     "text": [
      "Usage: ipykernel_launcher.py [options] [input files]\n",
      "\n",
      "ipykernel_launcher.py: error: no such option: -f\n"
     ]
    },
    {
     "ename": "SystemExit",
     "evalue": "2",
     "output_type": "error",
     "traceback": [
      "An exception has occurred, use %tb to see the full traceback.\n",
      "\u001b[1;31mSystemExit\u001b[0m\u001b[1;31m:\u001b[0m 2\n"
     ]
    },
    {
     "name": "stderr",
     "output_type": "stream",
     "text": [
      "C:\\Users\\shard\\Anaconda2\\lib\\site-packages\\IPython\\core\\interactiveshell.py:2889: UserWarning: To exit: use 'exit', 'quit', or Ctrl-D.\n",
      "  warn(\"To exit: use 'exit', 'quit', or Ctrl-D.\", stacklevel=1)\n"
     ]
    }
   ],
   "source": [
    "# %load code/MRSortByString.py\n",
    "from mrjob.job import MRJob\n",
    "\n",
    "class MRSortByString(MRJob):\n",
    "    def mapper(self, _, line):\n",
    "        \"\"\"\n",
    "        \"\"\"\n",
    "        l = line.split(' ')\n",
    "        #print l\n",
    "        yield l[1], l[0]\n",
    "\n",
    "    def reducer(self, key, val):\n",
    "        yield key, [v for v in val][0]\n",
    "\n",
    "\n",
    "if __name__ == '__main__':\n",
    "    MRSortByString.run()"
   ]
  },
  {
   "cell_type": "code",
   "execution_count": 3,
   "metadata": {},
   "outputs": [
    {
     "name": "stderr",
     "output_type": "stream",
     "text": [
      "No configs found; falling back on auto-configuration\n",
      "Creating temp directory c:\\users\\shard\\appdata\\local\\temp\\MRSortByString.shard.20171010.164857.832000\n",
      "Running step 1 of 1...\n",
      "Streaming final output from c:\\users\\shard\\appdata\\local\\temp\\MRSortByString.shard.20171010.164857.832000\\output...\n"
     ]
    },
    {
     "name": "stdout",
     "output_type": "stream",
     "text": [
      "['1', '10']\n",
      "['2', '11']\n",
      "['3', '3']\n",
      "['4', '12']\n",
      "['5', '4']\n",
      "['6', '1']\n",
      "['7', '1']\n",
      "['8', '41']\n",
      "['9', '532']\n",
      "['10', '2']\n",
      "['11', '0']\n",
      "\"0\"\t\"11\"\n",
      "\"1\"\t\"6\"\n",
      "\"10\"\t\"1\"\n",
      "\"11\"\t\"2\"\n",
      "\"12\"\t\"4\"\n",
      "\"2\"\t\"10\"\n",
      "\"3\"\t\"3\"\n",
      "\"4\"\t\"5\"\n",
      "\"41\"\t\"8\"\n",
      "\"532\"\t\"9\"\n"
     ]
    },
    {
     "name": "stderr",
     "output_type": "stream",
     "text": [
      "Removing temp directory c:\\users\\shard\\appdata\\local\\temp\\MRSortByString.shard.20171010.164857.832000...\n"
     ]
    }
   ],
   "source": [
    "%run   code/MRSortByString.py data/numbers.txt"
   ]
  },
  {
   "cell_type": "markdown",
   "metadata": {},
   "source": [
    "\n",
    "How were they sorted?"
   ]
  },
  {
   "cell_type": "code",
   "execution_count": 6,
   "metadata": {},
   "outputs": [
    {
     "name": "stderr",
     "output_type": "stream",
     "text": [
      "Usage: ipykernel_launcher.py [options] [input files]\n",
      "\n",
      "ipykernel_launcher.py: error: no such option: -f\n"
     ]
    },
    {
     "ename": "SystemExit",
     "evalue": "2",
     "output_type": "error",
     "traceback": [
      "An exception has occurred, use %tb to see the full traceback.\n",
      "\u001b[1;31mSystemExit\u001b[0m\u001b[1;31m:\u001b[0m 2\n"
     ]
    }
   ],
   "source": [
    "# %load code/MRSortByInt.py\n",
    "from mrjob.job import MRJob\n",
    "\n",
    "class MRSortByInt(MRJob):\n",
    "    def mapper(self, _, line):\n",
    "        \"\"\"\n",
    "        \"\"\"\n",
    "        l = line.strip('\\n').split()\n",
    "        yield '%01d'%int(l[1]), l[0]\n",
    "\n",
    "    def reducer(self, key, val):\n",
    "        yield int(key), int(list(val)[0])\n",
    "\n",
    "\n",
    "if __name__ == '__main__':\n",
    "    MRSortByInt.run()"
   ]
  },
  {
   "cell_type": "code",
   "execution_count": 7,
   "metadata": {},
   "outputs": [
    {
     "name": "stderr",
     "output_type": "stream",
     "text": [
      "No configs found; falling back on auto-configuration\n",
      "No configs found; falling back on auto-configuration\n",
      "Creating temp directory c:\\users\\shard\\appdata\\local\\temp\\MRSortByInt.shard.20171003.000204.811000\n",
      "Creating temp directory c:\\users\\shard\\appdata\\local\\temp\\MRSortByInt.shard.20171003.000204.811000\n",
      "Running step 1 of 1...\n",
      "Running step 1 of 1...\n",
      "Streaming final output from c:\\users\\shard\\appdata\\local\\temp\\MRSortByInt.shard.20171003.000204.811000\\output...\n",
      "Streaming final output from c:\\users\\shard\\appdata\\local\\temp\\MRSortByInt.shard.20171003.000204.811000\\output...\n"
     ]
    },
    {
     "name": "stdout",
     "output_type": "stream",
     "text": [
      "0\t11\n",
      "1\t6\n",
      "10\t1\n",
      "11\t2\n",
      "12\t4\n",
      "2\t10\n",
      "3\t3\n",
      "4\t5\n",
      "41\t8\n",
      "532\t9\n"
     ]
    },
    {
     "name": "stderr",
     "output_type": "stream",
     "text": [
      "Removing temp directory c:\\users\\shard\\appdata\\local\\temp\\MRSortByInt.shard.20171003.000204.811000...\n",
      "Removing temp directory c:\\users\\shard\\appdata\\local\\temp\\MRSortByInt.shard.20171003.000204.811000...\n"
     ]
    }
   ],
   "source": [
    "%run code/MRSortByInt.py data/numbers.txt"
   ]
  },
  {
   "cell_type": "code",
   "execution_count": 8,
   "metadata": {},
   "outputs": [
    {
     "name": "stdout",
     "output_type": "stream",
     "text": [
      "Overwriting data/sortdata.txt\n"
     ]
    }
   ],
   "source": [
    "%%writefile data/sortdata.txt\n",
    "1 1\n",
    "2 4\n",
    "3 8\n",
    "4 2\n",
    "4 7\n",
    "5 5\n",
    "6 10\n",
    "7 11"
   ]
  },
  {
   "cell_type": "code",
   "execution_count": 9,
   "metadata": {
    "collapsed": true
   },
   "outputs": [],
   "source": [
    "# Running code inline example"
   ]
  },
  {
   "cell_type": "code",
   "execution_count": 10,
   "metadata": {},
   "outputs": [
    {
     "name": "stderr",
     "output_type": "stream",
     "text": [
      "No configs found; falling back on auto-configuration\n",
      "No configs found; falling back on auto-configuration\n",
      "Creating temp directory c:\\users\\shard\\appdata\\local\\temp\\MRSortByString.shard.20171003.000211.931000\n",
      "Creating temp directory c:\\users\\shard\\appdata\\local\\temp\\MRSortByString.shard.20171003.000211.931000\n",
      "Running step 1 of 1...\n",
      "Running step 1 of 1...\n",
      "Streaming final output from c:\\users\\shard\\appdata\\local\\temp\\MRSortByString.shard.20171003.000211.931000\\output...\n",
      "Streaming final output from c:\\users\\shard\\appdata\\local\\temp\\MRSortByString.shard.20171003.000211.931000\\output...\n"
     ]
    },
    {
     "name": "stdout",
     "output_type": "stream",
     "text": [
      "starting MRSortByString job on local\n",
      "['1', '1']\n",
      "['2', '4']\n",
      "['3', '8']\n",
      "['4', '2']\n",
      "['4', '7']\n",
      "['5', '5']\n",
      "['6', '10']\n",
      "['7', '11']\n",
      "finished MRSortByString job\n",
      "Sorting sortdata.txt\n",
      "1: 1 \n",
      "10: 6 \n",
      "11: 7 \n",
      "2: 4 \n",
      "4: 2 \n",
      "5: 5 \n",
      "7: 4 \n",
      "8: 3 \n"
     ]
    }
   ],
   "source": [
    "# -*- coding: utf-8 -*-\n",
    "# Testing word frequency count\n",
    "import os, sys\n",
    "sys.path.append(os.path.join(os.getcwd(),\"code\"))\n",
    "from MRSortByString import *\n",
    "from mrjob.job import MRJob\n",
    "'''\n",
    "This is a simple wrapper that runs mrjob MapReduce jobs, the inputs are:\n",
    "MRJobClass - the class of the job to be run\n",
    "argsArr - an array of strings to be used when creating the MRJob.\n",
    "@author: Peter Harrington  if you have any questions: peter.b.harrington@gmail.com\n",
    "'''\n",
    "def runJob(MRJobClass, argsArr, loc='local'):\n",
    "    if loc == 'emr': \n",
    "        argsArr.extend(['-r', 'emr'])\n",
    "    print \"starting %s job on %s\" % (MRJobClass.__name__, loc)\n",
    "    mrJob = MRJobClass(args=argsArr)\n",
    "    runner = mrJob.make_runner()\n",
    "    runner.run()\n",
    "    print \"finished %s job\" % MRJobClass.__name__\n",
    "    return mrJob, runner\n",
    "    \n",
    "def runParallelJob(MRJobClass, argsArr):            #TO DO: add threading to allow jobs to run in \n",
    "    pass                                                #parallel \n",
    "    #launch a new thread\n",
    "    #call runJob(MRJobClass, argsArr) on the new thread\n",
    "\n",
    "if __name__ == '__main__':\n",
    "# pass in file from outside\n",
    "#    MRWordFrequencyCount.run()\n",
    "#setup file here\n",
    "    mr_job, runner = runJob(MRSortByString,[os.path.join(os.path.join(os.getcwd(),\"data\"),\"sortdata.txt\")],\"local\")\n",
    "    print \"Sorting sortdata.txt\"\n",
    "    for line in runner.stream_output(): \n",
    "        key, value = mr_job.parse_output_line(line)\n",
    "        print \"%s: %s \"%(key,value)"
   ]
  },
  {
   "cell_type": "markdown",
   "metadata": {},
   "source": [
    "Note the second column is reported by their string values"
   ]
  }
 ],
 "metadata": {
  "kernelspec": {
   "display_name": "Python 2",
   "language": "python",
   "name": "python2"
  },
  "language_info": {
   "codemirror_mode": {
    "name": "ipython",
    "version": 2
   },
   "file_extension": ".py",
   "mimetype": "text/x-python",
   "name": "python",
   "nbconvert_exporter": "python",
   "pygments_lexer": "ipython2",
   "version": "2.7.13"
  }
 },
 "nbformat": 4,
 "nbformat_minor": 1
}
