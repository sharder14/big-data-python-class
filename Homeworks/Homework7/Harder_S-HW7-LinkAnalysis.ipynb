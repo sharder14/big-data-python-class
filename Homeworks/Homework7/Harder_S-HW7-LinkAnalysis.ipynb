{
 "cells": [
  {
   "cell_type": "markdown",
   "metadata": {},
   "source": [
    "7.1  Create a crawler using the webcrawler provided and discussed in my jupyter notebook ( https://github.com/pschragger/big-data-python-class/blob/master/Lectures/Lecture_7_-_Link_Analysis.ipynb) , have it crawl the first 200 pages from a base URL of your choosing\n",
    "\n",
    "7.2  Create a Stochastic matrix from its resulting crawling as per https://cs7083.wordpress.com/2013/01/31/demystifying-the-pagerank-and-hits-algorithms/\n",
    "\n",
    "7.3 Pass it through the Page Rank algorithm and provide the list of the top 5 page URLs in your sample\n",
    "\n",
    "7.x For extra credit use the hits algorithm ( with a connectivity matrix )\n",
    "\n",
    "7.xx For advanced credit find another ranking alogrithm and demonstrate that as well"
   ]
  },
  {
   "cell_type": "markdown",
   "metadata": {},
   "source": [
    "## 7.1 Create a crawler"
   ]
  },
  {
   "cell_type": "markdown",
   "metadata": {},
   "source": [
    "Here I am crawling the Villanova website for urls."
   ]
  },
  {
   "cell_type": "code",
   "execution_count": 31,
   "metadata": {
    "collapsed": true
   },
   "outputs": [],
   "source": [
    "import requests\n",
    "from scrapy.http import TextResponse\n",
    "\n",
    "r = requests.get('http://www1.villanova.edu/main.html')\n",
    "response = TextResponse(r.url, body=r.text, encoding='utf-8')"
   ]
  },
  {
   "cell_type": "code",
   "execution_count": 32,
   "metadata": {},
   "outputs": [
    {
     "name": "stdout",
     "output_type": "stream",
     "text": [
      "<200 http://www1.villanova.edu/main.html>\n"
     ]
    }
   ],
   "source": [
    "print response"
   ]
  },
  {
   "cell_type": "code",
   "execution_count": 33,
   "metadata": {},
   "outputs": [
    {
     "data": {
      "text/plain": [
       "[<Selector xpath='//title' data=u'<title>Villanova University</title>'>]"
      ]
     },
     "execution_count": 33,
     "metadata": {},
     "output_type": "execute_result"
    }
   ],
   "source": [
    "#Using xpath to access data\n",
    "response.xpath('//title')"
   ]
  },
  {
   "cell_type": "code",
   "execution_count": 34,
   "metadata": {},
   "outputs": [
    {
     "data": {
      "text/plain": [
       "[u'Villanova University']"
      ]
     },
     "execution_count": 34,
     "metadata": {},
     "output_type": "execute_result"
    }
   ],
   "source": [
    " response.xpath('//title/text()').extract()"
   ]
  },
  {
   "cell_type": "code",
   "execution_count": 35,
   "metadata": {},
   "outputs": [
    {
     "data": {
      "text/plain": [
       "[<Selector xpath='//ul/li' data=u'<li><a href=\"http://www.forthegreatergre'>,\n",
       " <Selector xpath='//ul/li' data=u'<li><a href=\"/content/main/admissions.ht'>,\n",
       " <Selector xpath='//ul/li' data=u'<li><a href=\"https://secure.touchnet.com'>,\n",
       " <Selector xpath='//ul/li' data=u'<li><a href=\"https://novanet.villanova.e'>,\n",
       " <Selector xpath='//ul/li' data=u'<li><a href=\"http://webmail.villanova.ed'>,\n",
       " <Selector xpath='//ul/li' data=u'<li><a href=\"http://elearning.villanova.'>,\n",
       " <Selector xpath='//ul/li' data=u'<li>\\n\\t\\t\\t\\t\\t\\t\\t\\t<button type=\"button\" class'>,\n",
       " <Selector xpath='//ul/li' data=u'<li>\\n\\t\\t\\t\\t\\t\\t\\t\\t<button type=\"button\" oncli'>,\n",
       " <Selector xpath='//ul/li' data=u'<li>\\n\\t\\t\\t\\t\\t\\t\\t\\t<button type=\"button\" oncli'>,\n",
       " <Selector xpath='//ul/li' data=u'<li>\\n\\t\\t\\t\\t\\t\\t\\t\\t<button type=\"button\" class'>,\n",
       " <Selector xpath='//ul/li' data=u'<li>\\n\\t\\t\\t\\t\\t\\t\\t\\t<button type=\"button\" class'>,\n",
       " <Selector xpath='//ul/li' data=u'<li>\\n\\t\\t\\t\\t\\t\\t\\t\\t<button type=\"button\" class'>,\n",
       " <Selector xpath='//ul/li' data=u'<li><a href=\"/main/admissions.html\">\\n   '>,\n",
       " <Selector xpath='//ul/li' data=u'<li><a href=\"https://secure.touchnet.com'>,\n",
       " <Selector xpath='//ul/li' data=u'<li><a href=\"http://webmail.villanova.ed'>,\n",
       " <Selector xpath='//ul/li' data=u'<li><a href=\"http://elearning.villanova.'>,\n",
       " <Selector xpath='//ul/li' data=u'<li class=\"about dropdown\">\\n<a href=\"/co'>,\n",
       " <Selector xpath='//ul/li' data=u'<li class=\"admissions dropdown\">\\n<a href'>,\n",
       " <Selector xpath='//ul/li' data=u'<li class=\"academics dropdown\">\\n<a href='>,\n",
       " <Selector xpath='//ul/li' data=u'<li class=\"mainlibrary dropdown\">\\n<a hre'>,\n",
       " <Selector xpath='//ul/li' data=u'<li class=\"on-campus dropdown\">\\n<a href='>,\n",
       " <Selector xpath='//ul/li' data=u'<li class=\"athletics dropdown\">\\n<a href='>,\n",
       " <Selector xpath='//ul/li' data=u'<li class=\"advancement dropdown\">\\n<a hre'>,\n",
       " <Selector xpath='//ul/li' data=u'<li class=\" active\">\\n        <a href=\"#i'>,\n",
       " <Selector xpath='//ul/li' data=u'<li class=\"\">\\n        <a href=\"#itemtab2'>,\n",
       " <Selector xpath='//ul/li' data=u'<li class=\"eventcalendaricon\">\\n    \\t<a h'>,\n",
       " <Selector xpath='//ul/li' data=u'<li><h4><a href=\"/villanova/media/pressr'>,\n",
       " <Selector xpath='//ul/li' data=u'<li><h4><a href=\"/villanova/media/pressr'>,\n",
       " <Selector xpath='//ul/li' data=u'<li class=\"facebook\">\\n<a href=\"https://w'>,\n",
       " <Selector xpath='//ul/li' data=u'<li class=\"twitter\">\\n<a href=\"https://ww'>,\n",
       " <Selector xpath='//ul/li' data=u'<li class=\"youtube\">\\n<a href=\"http://www'>,\n",
       " <Selector xpath='//ul/li' data=u'<li class=\"linkedin\">\\n<a href=\"http://ww'>,\n",
       " <Selector xpath='//ul/li' data=u'<li class=\"instagram\">\\n<a href=\"http://w'>,\n",
       " <Selector xpath='//ul/li' data=u'<li><a href=\"/main/about/accessibility.h'>,\n",
       " <Selector xpath='//ul/li' data=u'<li><a href=\"/villanova/provost/diversit'>,\n",
       " <Selector xpath='//ul/li' data=u'<li><a target=\"_blank\" href=\"https://web'>,\n",
       " <Selector xpath='//ul/li' data=u'<li><a href=\"/villanova/index_az.html\">V'>,\n",
       " <Selector xpath='//ul/li' data=u'<li><a target=\"_blank\" href=\"http://www.'>,\n",
       " <Selector xpath='//ul/li' data=u'<li><a href=\"http://jobs.villanova.edu/\"'>,\n",
       " <Selector xpath='//ul/li' data=u'<li><i class=\"glyphicon glyphicon-share\"'>,\n",
       " <Selector xpath='//ul/li' data=u'<li><i class=\"glyphicon glyphicon-lock\">'>,\n",
       " <Selector xpath='//ul/li' data=u'<li><i class=\"glyphicon glyphicon-list-a'>,\n",
       " <Selector xpath='//ul/li' data=u'<li><i class=\"glyphicon glyphicon-check\"'>]"
      ]
     },
     "execution_count": 35,
     "metadata": {},
     "output_type": "execute_result"
    }
   ],
   "source": [
    "response.xpath('//ul/li')"
   ]
  },
  {
   "cell_type": "code",
   "execution_count": 36,
   "metadata": {},
   "outputs": [
    {
     "name": "stdout",
     "output_type": "stream",
     "text": [
      "                                                    0\n",
      "0                  http://www.forthegreatergreat.com/\n",
      "1                       /content/main/admissions.html\n",
      "2   https://secure.touchnet.com/C21740_ustores/web...\n",
      "3                      https://novanet.villanova.edu/\n",
      "4                       http://webmail.villanova.edu/\n",
      "5                     http://elearning.villanova.edu/\n",
      "6                               /main/admissions.html\n",
      "7   https://secure.touchnet.com/C21740_ustores/web...\n",
      "8                       http://webmail.villanova.edu/\n",
      "9                     http://elearning.villanova.edu/\n",
      "10                           /content/main/about.html\n",
      "11                      /content/main/admissions.html\n",
      "12                     /content/main/vuacademics.html\n",
      "13                       http://library.villanova.edu\n",
      "14                        /content/main/oncampus.html\n",
      "15                           http://www.villanova.com\n",
      "16                   /content/main/vuadvancement.html\n",
      "17                                          #itemtab1\n",
      "18                                          #itemtab2\n",
      "19            https://go.activecalendar.com/Villanova\n",
      "20                https://www.facebook.com/VillanovaU\n",
      "21                 https://www.twitter.com/VillanovaU\n",
      "22    http://www.youtube.com/user/villanovauniversity\n",
      "23        http://www.linkedin.com/edu/school?id=19339\n",
      "24                http://www.instagram.com/villanovau\n",
      "25                     /main/about/accessibility.html\n",
      "26                  /villanova/provost/diversity.html\n",
      "27         https://webappvip.villanova.edu/myprofile/\n",
      "28                           /villanova/index_az.html\n",
      "29  http://www.villanova.edu/directoryservices/con...\n",
      "30                         http://jobs.villanova.edu/\n",
      "31                     mailto:webmaster@villanova.edu\n",
      "32        /villanova/unit/about/policies/privacy.html\n",
      "33      /villanova/unit/about/policies/copyright.html\n",
      "34              /villanova/president/higheredact.html\n"
     ]
    }
   ],
   "source": [
    "import pandas as pd\n",
    "#response.xpath('//ul/li/a/@href').extract()\n",
    "df1= pd.DataFrame(response.xpath('//ul/li/a/@href').extract())\n",
    "print df1"
   ]
  },
  {
   "cell_type": "markdown",
   "metadata": {},
   "source": [
    "Since this website did not give back a huge list of urls, I decided to explore a sample of 9 Urls from this output. Therefore I will have a network of 10 urls to work with. These include: \n",
    "\n",
    "https://novanet.villanova.edu/\n",
    "\n",
    "http://webmail.villanova.edu/\n",
    "\n",
    "http://library.villanova.edu/\n",
    "\n",
    "https://www.facebook.com/VillanovaU\n",
    "\n",
    "https://www.twitter.com/VillanovaU\n",
    "\n",
    "http://www.youtube.com/user/villanovauniversity\n",
    "\n",
    "http://www.linkedin.com/edu/school?id=19339\n",
    "\n",
    "http://www.instagram.com/villanovau\n",
    "\n",
    "http://www.villanova.com/\n",
    "\n",
    "For each of these links, I will find the urls and construct a Network to perform the analysis on.\n"
   ]
  },
  {
   "cell_type": "code",
   "execution_count": 12,
   "metadata": {},
   "outputs": [
    {
     "name": "stdout",
     "output_type": "stream",
     "text": [
      "Empty DataFrame\n",
      "Columns: []\n",
      "Index: []\n"
     ]
    }
   ],
   "source": [
    "import requests\n",
    "from scrapy.http import TextResponse\n",
    "import pandas as pd\n",
    "\n",
    "r2 = requests.get('https://novanet.villanova.edu/')\n",
    "response2 = TextResponse(r2.url, body=r2.text, encoding='utf-8')\n",
    "df2= pd.DataFrame(response2.xpath('//ul/li/a/@href').extract())\n",
    "print df2"
   ]
  },
  {
   "cell_type": "code",
   "execution_count": 13,
   "metadata": {},
   "outputs": [
    {
     "name": "stdout",
     "output_type": "stream",
     "text": [
      "                                              0\n",
      "0           //www1.villanova.edu/villanova.html\n",
      "1          //www1.villanova.edu/main/about.html\n",
      "2     //www1.villanova.edu/main/admissions.html\n",
      "3    //www1.villanova.edu/main/vuacademics.html\n",
      "4                  http://library.villanova.edu\n",
      "5       //www1.villanova.edu/main/oncampus.html\n",
      "6                      http://www.villanova.com\n",
      "7  //www1.villanova.edu/main/vuadvancement.html\n",
      "8                  http://novanet.villanova.edu\n"
     ]
    }
   ],
   "source": [
    "import requests\n",
    "from scrapy.http import TextResponse\n",
    "import pandas as pd\n",
    "\n",
    "r3 = requests.get('http://webmail.villanova.edu/')\n",
    "response3 = TextResponse(r3.url, body=r3.text, encoding='utf-8')\n",
    "df3= pd.DataFrame(response3.xpath('//ul/li/a/@href').extract())\n",
    "print df3"
   ]
  },
  {
   "cell_type": "code",
   "execution_count": 15,
   "metadata": {},
   "outputs": [
    {
     "name": "stdout",
     "output_type": "stream",
     "text": [
      "                                                    0\n",
      "0                   http://blog.library.villanova.edu\n",
      "1                                 /about/information/\n",
      "2                                    /about/services/\n",
      "3                                 /about/departments/\n",
      "4                                    /about/projects/\n",
      "5                          /about/falvey-quick-facts/\n",
      "6                                /about/social-media/\n",
      "7                                    /about/contactus\n",
      "8                               /Find/MyResearch/Home\n",
      "9   http://universitypublications.villanova.edu/mo...\n",
      "10  https://library.villanova.edu/about/projects/f...\n",
      "11  https://exhibits.library.villanova.edu/wildcat...\n",
      "12  https://1842day.villanova.edu/campaigns/falvey...\n",
      "13  https://library.villanova.edu/about/projects/f...\n",
      "14                                          /research\n",
      "15                                /research/databases\n",
      "16                                /research/ejournals\n",
      "17                                  /Find/Search/Home\n",
      "18                        /about/services/illservices\n",
      "19                              /Find/MyResearch/Home\n",
      "20                                              #news\n",
      "21                                            #events\n"
     ]
    }
   ],
   "source": [
    "import requests\n",
    "from scrapy.http import TextResponse\n",
    "import pandas as pd\n",
    "\n",
    "r4 = requests.get('http://library.villanova.edu/')\n",
    "response4 = TextResponse(r4.url, body=r4.text, encoding='utf-8')\n",
    "df4= pd.DataFrame(response4.xpath('//ul/li/a/@href').extract())\n",
    "print df4"
   ]
  },
  {
   "cell_type": "code",
   "execution_count": 23,
   "metadata": {},
   "outputs": [
    {
     "name": "stdout",
     "output_type": "stream",
     "text": [
      "                                                   0\n",
      "0  https://www.facebook.com/search/10729957263358...\n"
     ]
    }
   ],
   "source": [
    "import requests\n",
    "from scrapy.http import TextResponse\n",
    "import pandas as pd\n",
    "\n",
    "r5 = requests.get('https://www.facebook.com/VillanovaU')\n",
    "response5 = TextResponse(r5.url, body=r5.text, encoding='utf-8')\n",
    "df5= pd.DataFrame(response5.xpath('//ul/li/a/@href').extract())\n",
    "print df5"
   ]
  },
  {
   "cell_type": "code",
   "execution_count": 24,
   "metadata": {},
   "outputs": [
    {
     "name": "stdout",
     "output_type": "stream",
     "text": [
      "                                          0\n",
      "0                                         /\n",
      "1                                /i/moments\n",
      "2                                          \n",
      "3                                          \n",
      "4                                          \n",
      "5                                          \n",
      "6                      #supported_languages\n",
      "7                                  ?lang=id\n",
      "8                                 ?lang=msa\n",
      "9                                  ?lang=ca\n",
      "10                                 ?lang=cs\n",
      "11                                 ?lang=da\n",
      "12                                 ?lang=de\n",
      "13                              ?lang=en-gb\n",
      "14                                 ?lang=es\n",
      "15                                ?lang=fil\n",
      "16                                 ?lang=fr\n",
      "17                                 ?lang=hr\n",
      "18                                 ?lang=it\n",
      "19                                 ?lang=hu\n",
      "20                                 ?lang=nl\n",
      "21                                 ?lang=no\n",
      "22                                 ?lang=pl\n",
      "23                                 ?lang=pt\n",
      "24                                 ?lang=ro\n",
      "25                                 ?lang=sk\n",
      "26                                 ?lang=fi\n",
      "27                                 ?lang=sv\n",
      "28                                 ?lang=vi\n",
      "29                                 ?lang=tr\n",
      "..                                      ...\n",
      "39                                 ?lang=hi\n",
      "40                                 ?lang=bn\n",
      "41                                 ?lang=gu\n",
      "42                                 ?lang=ta\n",
      "43                                 ?lang=kn\n",
      "44                                 ?lang=th\n",
      "45                                 ?lang=ko\n",
      "46                                 ?lang=ja\n",
      "47                              ?lang=zh-cn\n",
      "48                              ?lang=zh-tw\n",
      "49                                   /login\n",
      "50                    /VillanovaU/following\n",
      "51                    /VillanovaU/followers\n",
      "52                        /VillanovaU/likes\n",
      "53                        /VillanovaU/lists\n",
      "54                                    #more\n",
      "55                        /VillanovaU/likes\n",
      "56                        /VillanovaU/lists\n",
      "57                 /VillanovaU/with_replies\n",
      "58                        /VillanovaU/media\n",
      "59                                   /about\n",
      "60                    //support.twitter.com\n",
      "61                                     /tos\n",
      "62                                 /privacy\n",
      "63  //support.twitter.com/articles/20170514\n",
      "64  //support.twitter.com/articles/20170451\n",
      "65                                         \n",
      "66                                         \n",
      "67                                         \n",
      "68                                         \n",
      "\n",
      "[69 rows x 1 columns]\n"
     ]
    }
   ],
   "source": [
    "import requests\n",
    "from scrapy.http import TextResponse\n",
    "import pandas as pd\n",
    "\n",
    "r6 = requests.get('https://www.twitter.com/VillanovaU')\n",
    "response6 = TextResponse(r6.url, body=r6.text, encoding='utf-8')\n",
    "df6= pd.DataFrame(response6.xpath('//ul/li/a/@href').extract())\n",
    "print df6"
   ]
  },
  {
   "cell_type": "code",
   "execution_count": 25,
   "metadata": {},
   "outputs": [
    {
     "name": "stdout",
     "output_type": "stream",
     "text": [
      "                                                    0\n",
      "0   /user/villanovauniversity/videos?disable_polym...\n",
      "1   /user/villanovauniversity/playlists?disable_po...\n",
      "2   /user/villanovauniversity/channels?disable_pol...\n",
      "3   /user/villanovauniversity/about?disable_polymer=1\n",
      "4                                                   /\n",
      "5                                      /feed/trending\n",
      "6                                       /feed/history\n",
      "7                                                /red\n",
      "8   https://tv.youtube.com/?utm_source=youtube_web...\n",
      "9                   /channel/UC-9-kyTW8ZkZNDHQJ6FgpwQ\n",
      "10                  /channel/UCEgdi0XIXXZ-qJOFPf4JSKw\n",
      "11                  /channel/UCOpNcN46UbXVtpKMrmU4Abg\n",
      "12                  /channel/UClgRkhTL3_hImCAmdLfDE4g\n",
      "13                  /channel/UCl8dMTqDrJQ0c8y23UBu4kQ\n",
      "14                  /channel/UCYfdidRxbB8Qhf0Nx7ioOYw\n",
      "15                  /channel/UC4R8DWoMoI7CAwX8_LjQHig\n",
      "16                  /channel/UCBR8-60-B28hp2BmDPdntcQ\n",
      "17                  /channel/UCzuqhhs6NWbgTzMuM09WKDQ\n",
      "18                                          /channels\n",
      "19      https://plus.google.com/111502318873148433797\n",
      "20                           http://www.villanova.edu\n",
      "21  /user/villanovauniversity/videos?disable_polym...\n",
      "22  /user/villanovauniversity/playlists?disable_po...\n",
      "23  /user/villanovauniversity/channels?disable_pol...\n",
      "24  /user/villanovauniversity/about?disable_polymer=1\n",
      "25  /user/villanovauniversity/videos?shelf_id=4&so...\n",
      "26  /user/villanovauniversity/videos?shelf_id=2&so...\n",
      "27  /playlist?list=PL_Z9mt0HJeskrUVkHrYkSL-H1yAHUJlT3\n",
      "28  /user/villanovauniversity/playlists?shelf_id=6...\n",
      "29                        //www.youtube.com/yt/about/\n",
      "30                        //www.youtube.com/yt/press/\n",
      "31                    //www.youtube.com/yt/copyright/\n",
      "32                     //www.youtube.com/yt/creators/\n",
      "33                    //www.youtube.com/yt/advertise/\n",
      "34                          //www.youtube.com/yt/dev/\n",
      "35                   https://plus.google.com/+youtube\n",
      "36                                           /t/terms\n",
      "37   https://www.google.com/intl/en/policies/privacy/\n",
      "38              //www.youtube.com/yt/policyandsafety/\n",
      "39                //support.google.com/youtube/?hl=en\n",
      "40                                          /testtube\n"
     ]
    }
   ],
   "source": [
    "import requests\n",
    "from scrapy.http import TextResponse\n",
    "import pandas as pd\n",
    "\n",
    "r7 = requests.get('http://www.youtube.com/user/villanovauniversity')\n",
    "response7 = TextResponse(r7.url, body=r7.text, encoding='utf-8')\n",
    "df7= pd.DataFrame(response7.xpath('//ul/li/a/@href').extract())\n",
    "print df7"
   ]
  },
  {
   "cell_type": "code",
   "execution_count": 29,
   "metadata": {},
   "outputs": [
    {
     "name": "stdout",
     "output_type": "stream",
     "text": [
      "Empty DataFrame\n",
      "Columns: []\n",
      "Index: []\n"
     ]
    }
   ],
   "source": [
    "import requests\n",
    "from scrapy.http import TextResponse\n",
    "import pandas as pd\n",
    "\n",
    "r8 = requests.get('http://www.linkedin.com/edu/school?id=19339')\n",
    "response8 = TextResponse(r8.url, body=r8.text, encoding='utf-8')\n",
    "df8= pd.DataFrame(response8.xpath('//ul/li/a/@href').extract())\n",
    "print df8"
   ]
  },
  {
   "cell_type": "code",
   "execution_count": 37,
   "metadata": {},
   "outputs": [
    {
     "name": "stdout",
     "output_type": "stream",
     "text": [
      "Empty DataFrame\n",
      "Columns: []\n",
      "Index: []\n"
     ]
    }
   ],
   "source": [
    "import requests\n",
    "from scrapy.http import TextResponse\n",
    "import pandas as pd\n",
    "\n",
    "r9 = requests.get('http://www.instagram.com/villanovau')\n",
    "response9 = TextResponse(r9.url, body=r9.text, encoding='utf-8')\n",
    "df9= pd.DataFrame(response9.xpath('//ul/li/a/@href').extract())\n",
    "print df9"
   ]
  },
  {
   "cell_type": "code",
   "execution_count": 48,
   "metadata": {},
   "outputs": [
    {
     "name": "stdout",
     "output_type": "stream",
     "text": [
      "                                                    0\n",
      "0                http://www.twitter.com/Novaathletics\n",
      "1         https://www.facebook.com/VillanovaAthletics\n",
      "2                http://www.youtube.com/Novaathletics\n",
      "3                  http://instagram.com/novaathletics\n",
      "4         http://www.villanova.com/collegesportslive/\n",
      "5   http://tunein.com/radio/Villanova-Sports-Netwo...\n",
      "6                                                   #\n",
      "7                  https://twitter.com/hashtag/gonova\n",
      "8                                                   #\n",
      "9                                                   #\n",
      "10                         /tickets/tickets-home.html\n",
      "11  http://ev8.evenue.net/cgi-bin/ncommerce3/SEGet...\n",
      "12                          /tickets/ticketterms.html\n",
      "13                   /tickets/ticketdistribution.html\n",
      "14                     /tickets/football-tickets.html\n",
      "15                     /tickets/m-baskbl-tickets.html\n",
      "16                     /tickets/w-baskbl-tickets.html\n",
      "17                     /tickets/m-lacros-tickets.html\n",
      "18  https://www.vividseats.com/ncaab/villanova-wil...\n",
      "19  https://www.vividseats.com/ncaab/villanova-wil...\n",
      "20                                                  #\n",
      "21                  /ot/nova-promotional-request.html\n",
      "22                                  /calendar/events/\n",
      "23                                            /camps/\n",
      "24                                         /kidsclub/\n",
      "25                   /novanation/join-the-nation.html\n",
      "26  http://webservices.cstv.com/register/7ab1d8f1c...\n",
      "27                                /ot/promotions.html\n",
      "28                       /travel/15-travel-guide.html\n",
      "29                       https://www.foxsportsgo.com/\n",
      "..                                                ...\n",
      "50  https://www1.villanova.edu/villanova/recreatio...\n",
      "51                   /sports-med/sports-medicine.html\n",
      "52                      /staffdir/nova-staffdir.html#\n",
      "53              /strength/strength-conditioning.html \n",
      "54  /sports/student-services/nova-student-services...\n",
      "55                                  /ot/title-ix.html\n",
      "56                                                  #\n",
      "57  http://shop.villanova.com/COLLEGE_Villanova_Wi...\n",
      "58  http://shop.villanova.com/COLLEGE_Villanova_Wi...\n",
      "59  http://shop.villanova.com/COLLEGE_Villanova_Wi...\n",
      "60  http://shop.villanova.com/COLLEGE_Villanova_Wi...\n",
      "61  http://shop.villanova.com/COLLEGE_Villanova_Wi...\n",
      "62  http://shop.villanova.com/COLLEGE_Villanova_Wi...\n",
      "63  http://shop.villanova.com/COLLEGE_Villanova_Wi...\n",
      "64  http://shop.villanova.com/COLLEGE_Villanova_Wi...\n",
      "65         https://villanova.cbsi-store.com/dvds.html\n",
      "66                                                  #\n",
      "67                      /school-bio/support-nova.html\n",
      "68                       /school-bio/nova-points.html\n",
      "69                    /school-bio/donor-benefits.html\n",
      "70            /sports/m-track/spec-rel/111117aad.html\n",
      "71             /sports/m-footbl/recaps/111117aaa.html\n",
      "72             /sports/m-baskbl/recaps/111017aab.html\n",
      "73             /sports/w-volley/recaps/111117aaa.html\n",
      "74               /sports/c-swim/recaps/111117aaa.html\n",
      "75                 /sports/w-xc/recaps/111017aaa.html\n",
      "76                                      #online-store\n",
      "77                                          #auctions\n",
      "78                                                  #\n",
      "79                                                  #\n",
      "\n",
      "[80 rows x 1 columns]\n"
     ]
    }
   ],
   "source": [
    "import requests\n",
    "from scrapy.http import TextResponse\n",
    "import pandas as pd\n",
    "\n",
    "r10 = requests.get('http://www.villanova.com/')\n",
    "response10 = TextResponse(r10.url, body=r10.text, encoding='utf-8')\n",
    "df10= pd.DataFrame(response10.xpath('//ul/li/a/@href').extract())\n",
    "print df10"
   ]
  },
  {
   "cell_type": "markdown",
   "metadata": {},
   "source": [
    "Now for all the links, I know how many incoming and outcoming links they have. I can now construct a network."
   ]
  },
  {
   "cell_type": "markdown",
   "metadata": {},
   "source": [
    "## 7.2 Create a stochastic matrix"
   ]
  },
  {
   "cell_type": "markdown",
   "metadata": {},
   "source": [
    "Before creating a stochastic matrix, I wanted to create a visual of the network. Here are the websites indexes, which will help simplfy:\n",
    "\n",
    "1: http://www1.villanova.edu/main.html\n",
    "\n",
    "2: https://novanet.villanova.edu/\n",
    "\n",
    "3: http://webmail.villanova.edu/\n",
    "\n",
    "4: http://library.villanova.edu/\n",
    "\n",
    "5: https://www.facebook.com/VillanovaU\n",
    "\n",
    "6: https://www.twitter.com/VillanovaU\n",
    "\n",
    "7: http://www.youtube.com/user/villanovauniversity\n",
    "\n",
    "8: http://www.linkedin.com/edu/school?id=19339\n",
    "\n",
    "9: http://www.instagram.com/villanovau\n",
    "\n",
    "10: http://www.villanova.com/\n",
    "\n",
    "A connectivity matrix is really needed to create the stochastic matrix, so I constructed the connectivity matrix. I will later use this matrix for the hits algorithm. The connectivity matrix has rows i and columns j. There is a 1 if there is a link out of i into j, else a 0:\n",
    "\n",
    "[0,1,1,1,1,1,1,1,1,1]\n",
    "\n",
    "[0,0,0,0,0,0,0,0,0,0]\n",
    "\n",
    "[1,1,0,1,0,0,0,0,0,1]\n",
    "\n",
    "[0,0,0,0,0,0,0,0,0,0]\n",
    "\n",
    "[0,0,0,0,0,0,0,0,0,0]\n",
    "\n",
    "[0,0,0,0,0,0,0,0,0,0]\n",
    "\n",
    "[1,0,0,0,0,0,0,0,0,0]\n",
    "\n",
    "[0,0,0,0,0,0,0,0,0,0]\n",
    "\n",
    "[0,0,0,0,0,0,0,0,0,0]\n",
    "\n",
    "[1,0,0,0,0,0,0,0,0,0]\n"
   ]
  },
  {
   "cell_type": "markdown",
   "metadata": {},
   "source": [
    "To create the visulization of the network, I utilized networkx. I got help from the following links:\n",
    "\n",
    "https://stackoverflow.com/questions/20133479/how-to-draw-directed-graphs-using-networkx-in-python\n",
    "\n",
    "https://networkx.github.io/documentation/networkx-1.10/index.html\n"
   ]
  },
  {
   "cell_type": "code",
   "execution_count": 85,
   "metadata": {},
   "outputs": [
    {
     "data": {
      "image/png": "[encoded data removed]",
      "text/plain": [
       "<matplotlib.figure.Figure at 0x1023f400>"
      ]
     },
     "metadata": {},
     "output_type": "display_data"
    }
   ],
   "source": [
    "import networkx as nx\n",
    "import numpy as np\n",
    "import matplotlib.pyplot as plt\n",
    "\n",
    "G = nx.MultiDiGraph()\n",
    "G.add_edges_from(\n",
    "    [('1', '2'), ('1', '3'), ('1', '4'), ('1', '5'), ('1', '6'),\n",
    "     ('1', '7'), ('1', '8'), ('1', '9'), ('1', '10'),('3','1'),\n",
    "     ('3','2'), ('3','4'),('3','10'),('7','1'),('10','1')])\n",
    "\n",
    "\n",
    "\n",
    "# Specify the edges you want here\n",
    "\n",
    "\n",
    "# Need to create a layout when doing\n",
    "# separate calls to draw nodes and edges\n",
    "pos = nx.spring_layout(G)\n",
    "nx.draw_networkx_nodes(G, pos, cmap=plt.get_cmap('jet'), \n",
    "                       node_size = 400)\n",
    "nx.draw_networkx_labels(G, pos)\n",
    "nx.draw_networkx_edges(G, pos, edge_color='blue', arrows=True)\n",
    "nx.draw_networkx_edges(G, pos, arrows=False)\n",
    "limits=plt.axis('off')\n",
    "plt.show()"
   ]
  },
  {
   "cell_type": "markdown",
   "metadata": {},
   "source": [
    "The blue bars indicate an arrow. For example, all nodes have a blue bar on the edge coming from 1. This means that that node has an incoming link from 1. Since 5 has no outgoing links, it only has one incoming link from 1.\n",
    "\n",
    "Now I have my network, I can construct the stochastic matrix. Each entry in the stochastic matrix, is the number of incoming links from i to j divided by the total number of links out of i. Which is essentially the probability that one of the edges out of i will be the incoming link to j.\n",
    "\n",
    "My Stochastic matrix is:\n",
    "\n",
    "[0, 1/9, 1/9, 1/9, 1/9, 1/9, 1/9, 1/9, 1/9, 1/9]\n",
    "\n",
    "[0, 0, 0, 0, 0, 0, 0, 0, 0, 0]\n",
    "\n",
    "[1/4, 1/4, 0, 1/4, 0, 0, 0, 0, 0, 1/4]\n",
    "\n",
    "[0, 0, 0, 0, 0, 0, 0, 0, 0, 0]\n",
    "\n",
    "[0, 0, 0, 0, 0, 0, 0, 0, 0, 0]\n",
    "\n",
    "[0, 0, 0, 0, 0, 0, 0, 0, 0, 0]\n",
    "\n",
    "[1, 0, 0, 0, 0, 0, 0, 0, 0, 0]\n",
    "\n",
    "[0, 0, 0, 0, 0, 0, 0, 0, 0, 0]\n",
    "\n",
    "[0, 0, 0, 0, 0, 0, 0, 0, 0, 0]\n",
    "\n",
    "[1, 0, 0, 0, 0, 0, 0, 0, 0, 0]\n"
   ]
  },
  {
   "cell_type": "code",
   "execution_count": 90,
   "metadata": {},
   "outputs": [
    {
     "name": "stdout",
     "output_type": "stream",
     "text": [
      "[[ 0.          0.11111111  0.11111111  0.11111111  0.11111111  0.11111111\n",
      "   0.11111111  0.11111111  0.11111111  0.11111111]\n",
      " [ 0.          0.          0.          0.          0.          0.          0.\n",
      "   0.          0.          0.        ]\n",
      " [ 0.25        0.25        0.          0.25        0.          0.          0.\n",
      "   0.          0.          0.25      ]\n",
      " [ 0.          0.          0.          0.          0.          0.          0.\n",
      "   0.          0.          0.        ]\n",
      " [ 0.          0.          0.          0.          0.          0.          0.\n",
      "   0.          0.          0.        ]\n",
      " [ 0.          0.          0.          0.          0.          0.          0.\n",
      "   0.          0.          0.        ]\n",
      " [ 1.          0.          0.          0.          0.          0.          0.\n",
      "   0.          0.          0.        ]\n",
      " [ 0.          0.          0.          0.          0.          0.          0.\n",
      "   0.          0.          0.        ]\n",
      " [ 0.          0.          0.          0.          0.          0.          0.\n",
      "   0.          0.          0.        ]\n",
      " [ 1.          0.          0.          0.          0.          0.          0.\n",
      "   0.          0.          0.        ]]\n"
     ]
    }
   ],
   "source": [
    "from numpy import *\n",
    "stochMatrix= array([[0, 1./9, 1./9, 1./9, 1./9, 1./9, 1./9, 1./9, 1./9, 1./9],[0, 0, 0, 0, 0, 0, 0, 0, 0, 0], [1./4, 1./4, 0, 1./4, 0, 0, 0, 0, 0, 1./4],[0, 0, 0, 0, 0, 0, 0, 0, 0, 0],[0, 0, 0, 0, 0, 0, 0, 0, 0, 0],[0, 0, 0, 0, 0, 0, 0, 0, 0, 0],[1, 0, 0, 0, 0, 0, 0, 0, 0, 0],[0, 0, 0, 0, 0, 0, 0, 0, 0, 0],[0, 0, 0, 0, 0, 0, 0, 0, 0, 0],[1, 0, 0, 0, 0, 0, 0, 0, 0, 0]] )\n",
    "print stochMatrix"
   ]
  },
  {
   "cell_type": "markdown",
   "metadata": {},
   "source": [
    "## 7.3 Pass the matrix through pagerank and list top 5 urls"
   ]
  },
  {
   "cell_type": "markdown",
   "metadata": {},
   "source": [
    "Now I am using the pagerank code given in the lecture. I am passing in my stochastic matrix and analyzing the output."
   ]
  },
  {
   "cell_type": "code",
   "execution_count": 95,
   "metadata": {},
   "outputs": [],
   "source": [
    "from numpy import *\n",
    " \n",
    "def pagerank(H):\n",
    "    n= len(H)\n",
    "    w = zeros(n)\n",
    "    rho = 1./n * ones(n);\n",
    "    for i in range(n):\n",
    "        if multiply.reduce(H[i]== zeros(n)):\n",
    "            w[i] = 1\n",
    "    newH = H + outer((1./n * w),ones(n))\n",
    " \n",
    "    theta=0.85\n",
    "    G = (theta * newH) + ((1-theta) * outer(1./n * ones(n), ones(n)))\n",
    "    print rho\n",
    "    for j in range(10):\n",
    "        rho = dot(rho,G)\n",
    "        print rho"
   ]
  },
  {
   "cell_type": "code",
   "execution_count": 93,
   "metadata": {},
   "outputs": [
    {
     "name": "stdout",
     "output_type": "stream",
     "text": [
      "[ 0.1  0.1  0.1  0.1  0.1  0.1  0.1  0.1  0.1  0.1]\n",
      "[ 0.25725     0.09669444  0.07544444  0.09669444  0.07544444  0.07544444\n",
      "  0.07544444  0.07544444  0.07544444  0.09669444]\n",
      "[ 0.21943917  0.09741694  0.081385    0.09741694  0.081385    0.081385\n",
      "  0.081385    0.081385    0.081385    0.09741694]\n",
      "[ 0.22850775  0.0972509   0.07995659  0.0972509   0.07995659  0.07995659\n",
      "  0.07995659  0.07995659  0.07995659  0.0972509 ]\n",
      "[ 0.22633504  0.09728996  0.08029918  0.09728996  0.08029918  0.08029918\n",
      "  0.08029918  0.08029918  0.08029918  0.09728996]\n",
      "[ 0.22685536  0.09728068  0.0802171   0.09728068  0.0802171   0.0802171\n",
      "  0.0802171   0.0802171   0.0802171   0.09728068]\n",
      "[ 0.22673078  0.09728289  0.08023676  0.09728289  0.08023676  0.08023676\n",
      "  0.08023676  0.08023676  0.08023676  0.09728289]\n",
      "[ 0.2267606   0.09728236  0.08023205  0.09728236  0.08023205  0.08023205\n",
      "  0.08023205  0.08023205  0.08023205  0.09728236]\n",
      "[ 0.22675346  0.09728249  0.08023318  0.09728249  0.08023318  0.08023318\n",
      "  0.08023318  0.08023318  0.08023318  0.09728249]\n",
      "[ 0.22675517  0.09728246  0.08023291  0.09728246  0.08023291  0.08023291\n",
      "  0.08023291  0.08023291  0.08023291  0.09728246]\n",
      "[ 0.22675476  0.09728247  0.08023297  0.09728247  0.08023297  0.08023297\n",
      "  0.08023297  0.08023297  0.08023297  0.09728247]\n"
     ]
    }
   ],
   "source": [
    "pagerank(stochMatrix)"
   ]
  },
  {
   "cell_type": "markdown",
   "metadata": {},
   "source": [
    "From out pagerank output, we can see that the highest rated links. \n",
    "\n",
    "The highest link is link 1 with a rank of .2267\n",
    "\n",
    "Tied for 2 are three links: 2,4, and 10 with a rating of .09728\n",
    "\n",
    "The 4th and 5th are also ties between 3, 5, 6, 7, 8, and 9 with a rating of .08023\n",
    "\n",
    "So in order by rank we have:\n",
    "\n",
    "1: http://www1.villanova.edu/main.html\n",
    "\n",
    "2: https://novanet.villanova.edu/\n",
    "\n",
    "3: http://library.villanova.edu/\n",
    "\n",
    "4: http://www.villanova.com/ \n",
    "\n",
    "5: http://webmail.villanova.edu/\n",
    "\n",
    "6: https://www.facebook.com/VillanovaU\n",
    "\n",
    "7: https://www.twitter.com/VillanovaU\n",
    "\n",
    "8: http://www.youtube.com/user/villanovauniversity\n",
    "\n",
    "9: http://www.linkedin.com/edu/school?id=19339\n",
    "\n",
    "10: http://www.instagram.com/villanovau\n",
    "\n",
    "We can make sense of this list by looking at the connectivity matrix. Since 1 has the most outgoing and incoming links, it has the highest rating. Links 2, 4 and 10 have the second highest number of incoming links which is why they are tied for second place.\n",
    "\n",
    "This assignment helped me to get a strong grasp of how link analysis is done. Although I only did a small sample, I can see the steps and process that would go into doing this large scale.\n"
   ]
  },
  {
   "cell_type": "markdown",
   "metadata": {},
   "source": [
    "## 7.x For extra credit use the hits algorithm"
   ]
  },
  {
   "cell_type": "code",
   "execution_count": 102,
   "metadata": {
    "collapsed": true
   },
   "outputs": [],
   "source": [
    "def hits(A):\n",
    "    n= len(A)\n",
    "    Au= dot(transpose(A),A)\n",
    "    Hu = dot(A,transpose(A))\n",
    "    a = ones(n); h = ones(n)\n",
    "    print a,h\n",
    "    for j in range(9):\n",
    "        a = dot(a,Au)\n",
    "        a= a/sum(a)\n",
    "        h = dot(h,Hu)\n",
    "        h = h/ sum(h)\n",
    "        print a,h"
   ]
  },
  {
   "cell_type": "code",
   "execution_count": 103,
   "metadata": {},
   "outputs": [
    {
     "name": "stdout",
     "output_type": "stream",
     "text": [
      "[ 1.  1.  1.  1.  1.  1.  1.  1.  1.  1.] [ 1.  1.  1.  1.  1.  1.  1.  1.  1.  1.]\n",
      "[ 0.06060606  0.13131313  0.09090909  0.13131313  0.09090909  0.09090909\n",
      "  0.09090909  0.09090909  0.09090909  0.13131313] [ 0.44444444  0.          0.33333333  0.          0.          0.\n",
      "  0.11111111  0.          0.          0.11111111]\n",
      "[ 0.05539359  0.13411079  0.09037901  0.13411079  0.09037901  0.09037901\n",
      "  0.09037901  0.09037901  0.09037901  0.13411079] [ 0.55555556  0.          0.32098765  0.          0.          0.          0.0617284\n",
      "  0.          0.          0.0617284 ]\n",
      "[ 0.05443886  0.13428252  0.09045226  0.13428252  0.09045226  0.09045226\n",
      "  0.09045226  0.09045226  0.09045226  0.13428252] [ 0.60074627  0.          0.30970149  0.          0.          0.\n",
      "  0.04477612  0.          0.          0.04477612]\n",
      "[ 0.05418838  0.13426854  0.090501    0.13426854  0.090501    0.090501\n",
      "  0.090501    0.090501    0.090501    0.13426854] [ 0.6172301   0.          0.30498001  0.          0.          0.\n",
      "  0.03889495  0.          0.          0.03889495]\n",
      "[ 0.05410942  0.13425702  0.09051992  0.13425702  0.09051992  0.09051992\n",
      "  0.09051992  0.09051992  0.09051992  0.13425702] [ 0.62301796  0.          0.30326578  0.          0.          0.\n",
      "  0.03685813  0.          0.          0.03685813]\n",
      "[ 0.05408293  0.13425245  0.09052662  0.13425245  0.09052662  0.09052662\n",
      "  0.09052662  0.09052662  0.09052662  0.13425245] [ 0.62502266  0.          0.30266683  0.          0.          0.\n",
      "  0.03615526  0.          0.          0.03615526]\n",
      "[ 0.05407388  0.13425082  0.09052894  0.13425082  0.09052894  0.09052894\n",
      "  0.09052894  0.09052894  0.09052894  0.13425082] [ 0.62571365  0.          0.3024599   0.          0.          0.\n",
      "  0.03591322  0.          0.          0.03591322]\n",
      "[ 0.05407078  0.13425025  0.09052974  0.13425025  0.09052974  0.09052974\n",
      "  0.09052974  0.09052974  0.09052974  0.13425025] [ 0.62595141  0.          0.30238866  0.          0.          0.\n",
      "  0.03582997  0.          0.          0.03582997]\n",
      "[ 0.05406971  0.13425006  0.09053002  0.13425006  0.09053002  0.09053002\n",
      "  0.09053002  0.09053002  0.09053002  0.13425006] [ 0.62603318  0.          0.30236415  0.          0.          0.\n",
      "  0.03580134  0.          0.          0.03580134]\n"
     ]
    }
   ],
   "source": [
    "conMatrix = array([[0,1,1,1,1,1,1,1,1,1],\n",
    "[0,0,0,0,0,0,0,0,0,0],\n",
    "[1,1,0,1,0,0,0,0,0,1],\n",
    "[0,0,0,0,0,0,0,0,0,0],\n",
    "[0,0,0,0,0,0,0,0,0,0],\n",
    "[0,0,0,0,0,0,0,0,0,0],\n",
    "[1,0,0,0,0,0,0,0,0,0],\n",
    "[0,0,0,0,0,0,0,0,0,0],\n",
    "[0,0,0,0,0,0,0,0,0,0],\n",
    "[1,0,0,0,0,0,0,0,0,0]])\n",
    "hits(conMatrix)"
   ]
  },
  {
   "cell_type": "markdown",
   "metadata": {
    "collapsed": true
   },
   "source": [
    "We can see from the final two arrays output from our hits algorithm, the highest rated hubs and authorities. \n",
    "\n",
    "First lets look at the hubs:\n",
    "\n",
    "[ 0.62603318  0.          0.30236415  0.          0.          0.   0.03580134  0.          0.          0.03580134]\n",
    "\n",
    "The hits algorithm works based on the connectivity matrix. Since 1 has the most outgoing links, it makes sense that it is the highest rated hub. Similrly 3 has the second highest number of outgoing links which would make sense why it is the second highest rated hub. Lastly 10 and 7 are our third highest hubs.\n",
    "\n",
    "List of hubs based on ratings:\n",
    "\n",
    "1: http://www1.villanova.edu/main.html\n",
    "\n",
    "2: http://webmail.villanova.edu/\n",
    "\n",
    "3: http://www.youtube.com/user/villanovauniversity\n",
    "\n",
    "4: http://www.villanova.com/\n",
    "\n",
    "5: https://novanet.villanova.edu/\n",
    "\n",
    "6: http://library.villanova.edu/\n",
    "\n",
    "7: https://www.facebook.com/VillanovaU\n",
    "\n",
    "8: https://www.twitter.com/VillanovaU\n",
    "\n",
    "9: http://www.linkedin.com/edu/school?id=19339\n",
    "\n",
    "10: http://www.instagram.com/villanovau\n",
    "\n",
    "\n",
    "Now lets look at authorities:\n",
    "\n",
    "[ 0.05406971  0.13425006  0.09053002  0.13425006  0.09053002  0.09053002  0.09053002  0.09053002  0.09053002  0.13425006]\n",
    "\n",
    "Authorites are based on the number of incoming links and if they are from highly rated hubs. All nodes have incoming links from 1. However, others have incoming links from others. Since 2, 4, and 10 have incoming links from 1 and 3, which are highly rated hubs, they are the highest rated authorites.\n",
    "\n",
    "List of authorities based on ratings:\n",
    "\n",
    "1: https://novanet.villanova.edu/\n",
    "\n",
    "2: http://library.villanova.edu/\n",
    "\n",
    "3: http://www.villanova.com/\n",
    "\n",
    "4: http://webmail.villanova.edu/\n",
    "\n",
    "5: https://www.facebook.com/VillanovaU\n",
    "\n",
    "6: https://www.twitter.com/VillanovaU\n",
    "\n",
    "7: http://www.youtube.com/user/villanovauniversity\n",
    "\n",
    "8: http://www.linkedin.com/edu/school?id=19339\n",
    "\n",
    "9: http://www.instagram.com/villanovau\n",
    "\n",
    "10: http://www1.villanova.edu/main.html\n",
    "\n"
   ]
  }
 ],
 "metadata": {
  "kernelspec": {
   "display_name": "Python 2",
   "language": "python",
   "name": "python2"
  },
  "language_info": {
   "codemirror_mode": {
    "name": "ipython",
    "version": 2
   },
   "file_extension": ".py",
   "mimetype": "text/x-python",
   "name": "python",
   "nbconvert_exporter": "python",
   "pygments_lexer": "ipython2",
   "version": "2.7.13"
  }
 },
 "nbformat": 4,
 "nbformat_minor": 1
}
