{
 "cells": [
  {
   "cell_type": "markdown",
   "metadata": {},
   "source": [
    "# Python Homework 1 - The challenge\n",
    "\n",
    "Take the python challenge found on www.pythonchallenge.com/.\n",
    "You will copy this notebook.  Rename it as:\n",
    "YOURLASTNAME-FIRSTINITIAL-python-challenge-xx-Sept-2017\n",
    "\n",
    "with your name replacing your last name and first initial and the xx replaced by the date you started or submitted.\n",
    "\n",
    "Do the first 10 challenges and put each question and your python solution and the final resulting url in this notebook or a series of connected notebooks.\n",
    "Discuss your attempt what parts of python were you using.\n",
    "\n",
    "Upload your completed jupyter notebook zip file to elearning site as your homework submission.  Do not put this notebook on your github.\n",
    "\n",
    " Note: 3 points for 10 correct answers...  4 points for 15 and 5 points for all 33 "
   ]
  },
  {
   "cell_type": "markdown",
   "metadata": {},
   "source": [
    "\n",
    "##Python challenge question 1"
   ]
  },
  {
   "cell_type": "markdown",
   "metadata": {
    "collapsed": true
   },
   "source": [
    "First it said to try and change the url. So I changed it from: http://www.pythonchallenge.com/pc/def/0.html to http://www.pythonchallenge.com/pc/def/1.html, with a 1 instead of 0. Next it says 2**38 is much larger. So In python I ran the following code:"
   ]
  },
  {
   "cell_type": "code",
   "execution_count": 1,
   "metadata": {},
   "outputs": [
    {
     "name": "stdout",
     "output_type": "stream",
     "text": [
      "274877906944\n"
     ]
    }
   ],
   "source": [
    "print(2**38)"
   ]
  },
  {
   "cell_type": "markdown",
   "metadata": {},
   "source": [
    "So now I changed the url to: http://www.pythonchallenge.com/pc/def/274877906944.html"
   ]
  },
  {
   "cell_type": "markdown",
   "metadata": {},
   "source": [
    "##Python challenge question 2"
   ]
  },
  {
   "cell_type": "markdown",
   "metadata": {
    "collapsed": true
   },
   "source": [
    "It show k->m, o->q, e->g. Each letter is changed to the one two letters down."
   ]
  },
  {
   "cell_type": "code",
   "execution_count": 2,
   "metadata": {},
   "outputs": [
    {
     "name": "stdout",
     "output_type": "stream",
     "text": [
      "i hope you didnt translate it by hand. thats what computers are for. doing it in by hand is inefficient and that's why this text is so long. using string.maketrans() is recommended. now apply on the url.\n"
     ]
    }
   ],
   "source": [
    "alphabet=['a','b','c','d','e','f','g','h','i','j','k','l','m','n','o','p','q','r','s','t','u','v','w','x','y','z']\n",
    "newAlph=['c','d','e','f','g','h','i','j','k','l','m','n','o','p','q','r','s','t','u','v','w','x','y','z','a','b']\n",
    "translate=\"g fmnc wms bgblr rpylqjyrc gr zw fylb. rfyrq ufyr amknsrcpq ypc dmp. bmgle gr gl zw fylb gq glcddgagclr ylb rfyr'q ufw rfgq rcvr gq qm jmle. sqgle qrpgle.kyicrpylq() gq pcamkkclbcb. lmu ynnjw ml rfc spj.\"\n",
    "newString=\"\"\n",
    "for i in range(0,len(translate)):\n",
    "    returnLetter=\"\"\n",
    "    noletter=0\n",
    "    for j in range(0, len(alphabet)):\n",
    "        if(translate[i]==alphabet[j]):\n",
    "            returnLetter=returnLetter+newAlph[j]\n",
    "        else:\n",
    "            noletter=noletter+1\n",
    "    if(noletter==len(alphabet)):\n",
    "        returnLetter=translate[i]\n",
    "    newString=newString+returnLetter\n",
    "print (newString)"
   ]
  },
  {
   "cell_type": "markdown",
   "metadata": {},
   "source": [
    "It says to apply it on the url. So I did the same thing with the url as the string."
   ]
  },
  {
   "cell_type": "code",
   "execution_count": 3,
   "metadata": {},
   "outputs": [
    {
     "name": "stdout",
     "output_type": "stream",
     "text": [
      "jvvr://yyy.ravjqpejcnngpig.eqo/re/fgh/ocr.jvon\n"
     ]
    }
   ],
   "source": [
    "url=\"http://www.pythonchallenge.com/pc/def/map.html\"\n",
    "newurl=\"\"\n",
    "for i in range(0,len(url)):\n",
    "    returnLetter=\"\"\n",
    "    noletter=0\n",
    "    for j in range(0, len(alphabet)):\n",
    "        if(url[i]==alphabet[j]):\n",
    "            returnLetter=returnLetter+newAlph[j]\n",
    "        else:\n",
    "            noletter=noletter+1\n",
    "    if(noletter==len(alphabet)):\n",
    "        returnLetter=url[i]\n",
    "    newurl=newurl+returnLetter\n",
    "print (newurl)"
   ]
  },
  {
   "cell_type": "markdown",
   "metadata": {},
   "source": [
    "The section we are looking for would be the one right before html, which is now ocr. So my url is now http://www.pythonchallenge.com/pc/def/ocr.html"
   ]
  },
  {
   "cell_type": "markdown",
   "metadata": {},
   "source": [
    "##Python challenge question 3"
   ]
  },
  {
   "cell_type": "markdown",
   "metadata": {
    "collapsed": true
   },
   "source": [
    "It tells you to check the page source. So I inspected the html of the page and noticed a huge string commented out and it says to find the rare characters. I read this string into python and counted the number of times each character appeared then found that the last group of characters that appear once spell out equality. So my next url is http://www.pythonchallenge.com/pc/def/equality.html  "
   ]
  },
  {
   "cell_type": "code",
   "execution_count": 10,
   "metadata": {},
   "outputs": [
    {
     "name": "stdout",
     "output_type": "stream",
     "text": [
      "\n",
      "%$@_^#)&!+]*}[({equality\n",
      "[1221, 6104, 6046, 6157, 6112, 6030, 6115, 6186, 6043, 6079, 6066, 6152, 6034, 6105, 6108, 6154, 6046, 1, 1, 1, 1, 1, 1, 1, 1]\n"
     ]
    }
   ],
   "source": [
    "import urllib\n",
    "webpage=urlopen(\"http://www.pythonchallenge.com/pc/def/ocr.html\");\n",
    "html=webpage.read();\n",
    "webpage.close();\n",
    "mess=html.split('<!--')[2].split('-->')[0]\n",
    "characters=''\n",
    "for i in range(0,len(mess)):\n",
    "    appear=0\n",
    "    for j in range(0,len(characters)):\n",
    "        if(mess[i]==characters[j]):\n",
    "            appear=appear+1\n",
    "    if(appear==0):\n",
    "        characters=characters+mess[i]\n",
    "appearances=[]\n",
    "for i in range(0,len(characters)):\n",
    "    appearances.append(0)\n",
    "for i in range(0,len(mess)):\n",
    "    for j in range(0,len(characters)):\n",
    "        if(mess[i]==characters[j]):\n",
    "            appearances[j]=appearances[j]+1\n",
    "print(characters)\n",
    "print(appearances)"
   ]
  },
  {
   "cell_type": "markdown",
   "metadata": {},
   "source": [
    "##Python challenge question 4"
   ]
  },
  {
   "cell_type": "markdown",
   "metadata": {
    "collapsed": true
   },
   "source": [
    "It says: One small letter, surrounded by EXACTLY three big bodyguards on each of its sides. So I retrieved the string from the page source as above. I used a patter find all function. This gave a result of linked list so my url is now: http://www.pythonchallenge.com/pc/def/linkedlist.html  "
   ]
  },
  {
   "cell_type": "code",
   "execution_count": 9,
   "metadata": {},
   "outputs": [
    {
     "name": "stdout",
     "output_type": "stream",
     "text": [
      "l i n k e d l i s t\n"
     ]
    }
   ],
   "source": [
    "import urllib\n",
    "import string\n",
    "import re\n",
    "\n",
    "webpage4=urlopen(\"http://www.pythonchallenge.com/pc/def/equality.html\");\n",
    "html4=webpage4.read();\n",
    "webpage4.close();\n",
    "mess4=html4.split('<!--')[1].split('-->')[0]\n",
    "mess4\n",
    "\n",
    "\n",
    "pattern = \"[^A-Z][A-Z]{3}([a-z])[A-Z]{3}[^A-Z]\"\n",
    "\n",
    "result = findall(pattern, mess4)\n",
    "\n",
    "for char in result:\n",
    "\tprint char,"
   ]
  },
  {
   "cell_type": "markdown",
   "metadata": {},
   "source": [
    "##Python challenge question 5"
   ]
  },
  {
   "cell_type": "markdown",
   "metadata": {
    "collapsed": true
   },
   "source": [
    "After I went to the linked list page I, changed the last part of the url to php. Then I investigated the page source. If you click the picture it prompts you to change the nothing parameter in the url. This keeps happening. So I opended the url in python and kept incrementing until the next url does not have a nothing number. When this happened it says yes divide by two and keep going. So I ran it again with my nothing=16044/2 and it gave me nothing=66831. Now the answer is revealed peak.html. So my url is http://www.pythonchallenge.com/pc/def/peak.html"
   ]
  },
  {
   "cell_type": "code",
   "execution_count": 7,
   "metadata": {},
   "outputs": [
    {
     "name": "stdout",
     "output_type": "stream",
     "text": [
      "16044\n"
     ]
    }
   ],
   "source": [
    "import urllib\n",
    "import re\n",
    "\n",
    "uri = \"http://www.pythonchallenge.com/pc/def/linkedlist.php?nothing=%s\"\n",
    "nothingString = \"and the next nothing is (\\d+)\"\n",
    "nothing = \"12345\"\n",
    "#nothing=str(16044/2)\n",
    "\n",
    "while True:\n",
    "    try:\n",
    "        source = urllib.urlopen(uri % nothing).read()\n",
    "        nothing = re.search(nothingString, source).group(1)\n",
    "    except:\n",
    "        break\n",
    "print nothing"
   ]
  },
  {
   "cell_type": "markdown",
   "metadata": {},
   "source": [
    "##Python challenge question 6"
   ]
  },
  {
   "cell_type": "markdown",
   "metadata": {},
   "source": [
    "We are given a picture of a hill and in the head of the webpage we are given the heading peak hell.There is an html like tag that has banner.p. Hints at pickle where we can use pythons library pickle. This gives us the url of http://www.pythonchallenge.com/pc/def/channel.html"
   ]
  },
  {
   "cell_type": "code",
   "execution_count": 12,
   "metadata": {},
   "outputs": [
    {
     "name": "stdout",
     "output_type": "stream",
     "text": [
      "                                                                                               \n",
      "              #####                                                                      ##### \n",
      "               ####                                                                       #### \n",
      "               ####                                                                       #### \n",
      "               ####                                                                       #### \n",
      "               ####                                                                       #### \n",
      "               ####                                                                       #### \n",
      "               ####                                                                       #### \n",
      "               ####                                                                       #### \n",
      "      ###      ####   ###         ###       #####   ###    #####   ###          ###       #### \n",
      "   ###   ##    #### #######     ##  ###      #### #######   #### #######     ###  ###     #### \n",
      "  ###     ###  #####    ####   ###   ####    #####    ####  #####    ####   ###     ###   #### \n",
      " ###           ####     ####   ###    ###    ####     ####  ####     ####  ###      ####  #### \n",
      " ###           ####     ####          ###    ####     ####  ####     ####  ###       ###  #### \n",
      "####           ####     ####     ##   ###    ####     ####  ####     #### ####       ###  #### \n",
      "####           ####     ####   ##########    ####     ####  ####     #### ##############  #### \n",
      "####           ####     ####  ###    ####    ####     ####  ####     #### ####            #### \n",
      "####           ####     #### ####     ###    ####     ####  ####     #### ####            #### \n",
      " ###           ####     #### ####     ###    ####     ####  ####     ####  ###            #### \n",
      "  ###      ##  ####     ####  ###    ####    ####     ####  ####     ####   ###      ##   #### \n",
      "   ###    ##   ####     ####   ###########   ####     ####  ####     ####    ###    ##    #### \n",
      "      ###     ######    #####    ##    #### ######    ###########    #####      ###      ######\n",
      "                                                                                               \n"
     ]
    }
   ],
   "source": [
    "import pickle\n",
    "import urllib\n",
    "\n",
    "loader = urllib.urlopen(\"http://www.pythonchallenge.com/pc/def/banner.p\")\n",
    "data = pickle.load(loader)\n",
    "loader.close()\n",
    "\n",
    "for abc in data:\n",
    "    print \"\".join([a[1] * a[0] for a in abc])"
   ]
  },
  {
   "cell_type": "markdown",
   "metadata": {},
   "source": [
    "###Python challenge question 7"
   ]
  }
 ],
 "metadata": {
  "kernelspec": {
   "display_name": "Python 2",
   "language": "python",
   "name": "python2"
  },
  "language_info": {
   "codemirror_mode": {
    "name": "ipython",
    "version": 2
   },
   "file_extension": ".py",
   "mimetype": "text/x-python",
   "name": "python",
   "nbconvert_exporter": "python",
   "pygments_lexer": "ipython2",
   "version": "2.7.13"
  }
 },
 "nbformat": 4,
 "nbformat_minor": 1
}
