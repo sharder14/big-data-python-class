{
 "cells": [
  {
   "cell_type": "markdown",
   "metadata": {},
   "source": [
    "# Homework 3  - Tryout pandas and numpy\n",
    "\n",
    "Copy this notebook. Rename it as: YOURNAME-Homework-panda-numpy-Sept-2017\n",
    "\n",
    "with your name replacing yourname and  replaced with the date you submit or to the last part.\n",
    "\n",
    "Do the homeworks problems below.\n",
    "\n",
    "Upload your completed jupyter notebook to your github site and send me the url via the elearning site as your homework submission. Please note that you need to do your own 3.4, and 3.5 if you share data and analysis from others then you cannot get more than a 3.  "
   ]
  },
  {
   "cell_type": "markdown",
   "metadata": {},
   "source": [
    "## Homework 3.1\n",
    "\n",
    "### 3.1.a\n",
    "Load the data from: http://opendata.dc.gov/datasets that I have include in this github   \n",
    "into a dataframe.  ( The file has been is available in directory ./data/ccp_current_csv.csv )"
   ]
  },
  {
   "cell_type": "code",
   "execution_count": 1,
   "metadata": {},
   "outputs": [
    {
     "data": {
      "text/html": [
       "<div>\n",
       "<style>\n",
       "    .dataframe thead tr:only-child th {\n",
       "        text-align: right;\n",
       "    }\n",
       "\n",
       "    .dataframe thead th {\n",
       "        text-align: left;\n",
       "    }\n",
       "\n",
       "    .dataframe tbody tr th {\n",
       "        vertical-align: top;\n",
       "    }\n",
       "</style>\n",
       "<table border=\"1\" class=\"dataframe\">\n",
       "  <thead>\n",
       "    <tr style=\"text-align: right;\">\n",
       "      <th></th>\n",
       "      <th>STREET</th>\n",
       "      <th>QUADRANT</th>\n",
       "      <th>FROMINTERSECTION</th>\n",
       "      <th>TOINTERSECTION</th>\n",
       "      <th>NOOFBLOCKS</th>\n",
       "      <th>WORKDESCRIPTION</th>\n",
       "      <th>YEARBUDGETED</th>\n",
       "      <th>PERCENTCOMPLETED</th>\n",
       "      <th>STATUS</th>\n",
       "      <th>MILES</th>\n",
       "      <th>...</th>\n",
       "      <th>YCOORD</th>\n",
       "      <th>LATITUDE</th>\n",
       "      <th>LONGITUDE</th>\n",
       "      <th>PROJECTNOTE</th>\n",
       "      <th>PROJECTNAME</th>\n",
       "      <th>PROJECTMGR</th>\n",
       "      <th>PROJECTID</th>\n",
       "      <th>TEAMREP</th>\n",
       "      <th>EMAIL</th>\n",
       "      <th>CONTACTPHONE</th>\n",
       "    </tr>\n",
       "  </thead>\n",
       "  <tbody>\n",
       "    <tr>\n",
       "      <th>0</th>\n",
       "      <td>13th St</td>\n",
       "      <td>NW</td>\n",
       "      <td>Kennedy St</td>\n",
       "      <td>Longfellow St</td>\n",
       "      <td>1</td>\n",
       "      <td>Pavement Resurface/restoration</td>\n",
       "      <td>2004</td>\n",
       "      <td>100</td>\n",
       "      <td>Completed</td>\n",
       "      <td>0.07</td>\n",
       "      <td>...</td>\n",
       "      <td>143205.11981</td>\n",
       "      <td>38.956747</td>\n",
       "      <td>-77.029694</td>\n",
       "      <td>NaN</td>\n",
       "      <td>FedAid</td>\n",
       "      <td>Paul Stephenson</td>\n",
       "      <td>5834</td>\n",
       "      <td>O. Hill</td>\n",
       "      <td>NaN</td>\n",
       "      <td>202-671-4591</td>\n",
       "    </tr>\n",
       "    <tr>\n",
       "      <th>1</th>\n",
       "      <td>S St</td>\n",
       "      <td>NW</td>\n",
       "      <td>North Capitol St</td>\n",
       "      <td>3rd St</td>\n",
       "      <td>3</td>\n",
       "      <td>Regular Cover</td>\n",
       "      <td>1999</td>\n",
       "      <td>100</td>\n",
       "      <td>Completed</td>\n",
       "      <td>0.33</td>\n",
       "      <td>...</td>\n",
       "      <td>138468.90256</td>\n",
       "      <td>38.914085</td>\n",
       "      <td>-77.012411</td>\n",
       "      <td>NaN</td>\n",
       "      <td>NaN</td>\n",
       "      <td>NaN</td>\n",
       "      <td>2467</td>\n",
       "      <td>NaN</td>\n",
       "      <td>NaN</td>\n",
       "      <td>NaN</td>\n",
       "    </tr>\n",
       "    <tr>\n",
       "      <th>2</th>\n",
       "      <td>Rhode Island Ave</td>\n",
       "      <td>NE</td>\n",
       "      <td>Brentwood Rd (W)</td>\n",
       "      <td>Brentwood Rd (M)</td>\n",
       "      <td>1</td>\n",
       "      <td>Pavement Resurface/restoration</td>\n",
       "      <td>2004</td>\n",
       "      <td>100</td>\n",
       "      <td>Completed</td>\n",
       "      <td>0.09</td>\n",
       "      <td>...</td>\n",
       "      <td>139574.10659</td>\n",
       "      <td>38.924041</td>\n",
       "      <td>-76.987221</td>\n",
       "      <td>NaN</td>\n",
       "      <td>Fedral Aid Citywide Pavement Restoration</td>\n",
       "      <td>Mohamed Abdullahi</td>\n",
       "      <td>5486</td>\n",
       "      <td>Said Cherifi</td>\n",
       "      <td>said.cherifi@dc.gov</td>\n",
       "      <td>202-671-4611</td>\n",
       "    </tr>\n",
       "    <tr>\n",
       "      <th>3</th>\n",
       "      <td>Mill Rd</td>\n",
       "      <td>NW</td>\n",
       "      <td>27th St</td>\n",
       "      <td>Cul De Sac</td>\n",
       "      <td>1</td>\n",
       "      <td>Pavement Resurface/restoration</td>\n",
       "      <td>2004</td>\n",
       "      <td>100</td>\n",
       "      <td>Completed</td>\n",
       "      <td>0.07</td>\n",
       "      <td>...</td>\n",
       "      <td>138132.90198</td>\n",
       "      <td>38.911046</td>\n",
       "      <td>-77.054077</td>\n",
       "      <td>POKA-2003-B-0048-JJ</td>\n",
       "      <td>Citywide Pavement Restoration Contract (Local ...</td>\n",
       "      <td>Maduabuchi Udeh</td>\n",
       "      <td>5796</td>\n",
       "      <td>Michael Jelen</td>\n",
       "      <td>Michael.Jelen@dc.gov</td>\n",
       "      <td>202-671-4542</td>\n",
       "    </tr>\n",
       "    <tr>\n",
       "      <th>4</th>\n",
       "      <td>Rhode Island Ave</td>\n",
       "      <td>NE</td>\n",
       "      <td>Brentwood Rd (M)</td>\n",
       "      <td>14th St  Evarts St  Montan</td>\n",
       "      <td>2</td>\n",
       "      <td>Pavement Resurface/restoration</td>\n",
       "      <td>2005</td>\n",
       "      <td>100</td>\n",
       "      <td>Completed</td>\n",
       "      <td>0.16</td>\n",
       "      <td>...</td>\n",
       "      <td>139657.25318</td>\n",
       "      <td>38.924790</td>\n",
       "      <td>-76.985068</td>\n",
       "      <td>NaN</td>\n",
       "      <td>NaN</td>\n",
       "      <td>NaN</td>\n",
       "      <td>8237</td>\n",
       "      <td>NaN</td>\n",
       "      <td>NaN</td>\n",
       "      <td>NaN</td>\n",
       "    </tr>\n",
       "  </tbody>\n",
       "</table>\n",
       "<p>5 rows × 27 columns</p>\n",
       "</div>"
      ],
      "text/plain": [
       "             STREET QUADRANT  FROMINTERSECTION              TOINTERSECTION  \\\n",
       "0           13th St       NW        Kennedy St               Longfellow St   \n",
       "1              S St       NW  North Capitol St                      3rd St   \n",
       "2  Rhode Island Ave       NE  Brentwood Rd (W)            Brentwood Rd (M)   \n",
       "3           Mill Rd       NW           27th St                  Cul De Sac   \n",
       "4  Rhode Island Ave       NE  Brentwood Rd (M)  14th St  Evarts St  Montan   \n",
       "\n",
       "   NOOFBLOCKS                 WORKDESCRIPTION  YEARBUDGETED  PERCENTCOMPLETED  \\\n",
       "0           1  Pavement Resurface/restoration          2004               100   \n",
       "1           3                   Regular Cover          1999               100   \n",
       "2           1  Pavement Resurface/restoration          2004               100   \n",
       "3           1  Pavement Resurface/restoration          2004               100   \n",
       "4           2  Pavement Resurface/restoration          2005               100   \n",
       "\n",
       "      STATUS  MILES      ...             YCOORD   LATITUDE  LONGITUDE  \\\n",
       "0  Completed   0.07      ...       143205.11981  38.956747 -77.029694   \n",
       "1  Completed   0.33      ...       138468.90256  38.914085 -77.012411   \n",
       "2  Completed   0.09      ...       139574.10659  38.924041 -76.987221   \n",
       "3  Completed   0.07      ...       138132.90198  38.911046 -77.054077   \n",
       "4  Completed   0.16      ...       139657.25318  38.924790 -76.985068   \n",
       "\n",
       "           PROJECTNOTE                                        PROJECTNAME  \\\n",
       "0                  NaN                                             FedAid   \n",
       "1                  NaN                                                NaN   \n",
       "2                  NaN           Fedral Aid Citywide Pavement Restoration   \n",
       "3  POKA-2003-B-0048-JJ  Citywide Pavement Restoration Contract (Local ...   \n",
       "4                  NaN                                                NaN   \n",
       "\n",
       "          PROJECTMGR  PROJECTID        TEAMREP                 EMAIL  \\\n",
       "0    Paul Stephenson       5834        O. Hill                   NaN   \n",
       "1                NaN       2467            NaN                   NaN   \n",
       "2  Mohamed Abdullahi       5486   Said Cherifi   said.cherifi@dc.gov   \n",
       "3    Maduabuchi Udeh       5796  Michael Jelen  Michael.Jelen@dc.gov   \n",
       "4                NaN       8237            NaN                   NaN   \n",
       "\n",
       "   CONTACTPHONE  \n",
       "0  202-671-4591  \n",
       "1           NaN  \n",
       "2  202-671-4611  \n",
       "3  202-671-4542  \n",
       "4           NaN  \n",
       "\n",
       "[5 rows x 27 columns]"
      ]
     },
     "execution_count": 1,
     "metadata": {},
     "output_type": "execute_result"
    }
   ],
   "source": [
    "import pandas as pd\n",
    "import numpy as np\n",
    "ccp = pd.read_csv('data/ccp_current_csv.csv')\n",
    "ccp.head()"
   ]
  },
  {
   "cell_type": "markdown",
   "metadata": {},
   "source": [
    "### 3.1.a  what is its shape and what does that mean?"
   ]
  },
  {
   "cell_type": "code",
   "execution_count": 2,
   "metadata": {},
   "outputs": [
    {
     "data": {
      "text/plain": [
       "(465, 27)"
      ]
     },
     "execution_count": 2,
     "metadata": {},
     "output_type": "execute_result"
    }
   ],
   "source": [
    "ccp.shape"
   ]
  },
  {
   "cell_type": "markdown",
   "metadata": {},
   "source": [
    "The shape is the number of columns and number of rows. For this dataset the shape is 465, 27. So there are 465 rows and 27 columns."
   ]
  },
  {
   "cell_type": "markdown",
   "metadata": {},
   "source": [
    "## Homework 3.2\n",
    " What are the number of rows in each 'QUADRANT' ?"
   ]
  },
  {
   "cell_type": "code",
   "execution_count": 3,
   "metadata": {},
   "outputs": [
    {
     "data": {
      "text/plain": [
       "NW    195\n",
       "NE    163\n",
       "SE     84\n",
       "BN     12\n",
       "SW     11\n",
       "Name: QUADRANT, dtype: int64"
      ]
     },
     "execution_count": 3,
     "metadata": {},
     "output_type": "execute_result"
    }
   ],
   "source": [
    "pd.value_counts(ccp.QUADRANT)"
   ]
  },
  {
   "cell_type": "markdown",
   "metadata": {},
   "source": [
    "The number of rows in each quadrant is:\n",
    "NW: 195, NE: 163, SE: 84, BN: 12, SW: 11"
   ]
  },
  {
   "cell_type": "markdown",
   "metadata": {},
   "source": [
    "## Homework 3.3 - Array math demonstration \n",
    "For two arrarys  \n",
    "\n",
    "a= [1,2,3,4]  type=float\n",
    "\n",
    "b= [5,6,7,8]  type=float\n",
    "\n",
    "Peform the following array operations using numpy   \n",
    "( show both operational use of numpy and functional (example addition operation => + vs addition function => numbpy.add() )\n",
    "\n",
    "### 3.3.1 addition a+b "
   ]
  },
  {
   "cell_type": "code",
   "execution_count": 4,
   "metadata": {},
   "outputs": [
    {
     "name": "stdout",
     "output_type": "stream",
     "text": [
      "[  6.   8.  10.  12.]\n",
      "[  6.   8.  10.  12.]\n"
     ]
    }
   ],
   "source": [
    "a=np.array([1,2,3,4])\n",
    "a1=a.astype(float)\n",
    "b=np.array([5,6,7,8])\n",
    "b1=b.astype(float)\n",
    "print a1+b1\n",
    "print np.add(a1,b1)"
   ]
  },
  {
   "cell_type": "markdown",
   "metadata": {},
   "source": [
    "### 3.3.2 subtraction a-b"
   ]
  },
  {
   "cell_type": "code",
   "execution_count": 5,
   "metadata": {},
   "outputs": [
    {
     "name": "stdout",
     "output_type": "stream",
     "text": [
      "[-4. -4. -4. -4.]\n",
      "[-4. -4. -4. -4.]\n"
     ]
    }
   ],
   "source": [
    "print a1-b1\n",
    "print np.subtract(a1,b1)"
   ]
  },
  {
   "cell_type": "markdown",
   "metadata": {},
   "source": [
    "### 3.3.3 multiplication a*b"
   ]
  },
  {
   "cell_type": "code",
   "execution_count": 6,
   "metadata": {},
   "outputs": [
    {
     "name": "stdout",
     "output_type": "stream",
     "text": [
      "[  5.  12.  21.  32.]\n",
      "[  5.  12.  21.  32.]\n"
     ]
    }
   ],
   "source": [
    "print a1*b1\n",
    "print np.multiply(a1,b1)"
   ]
  },
  {
   "cell_type": "markdown",
   "metadata": {},
   "source": [
    "### 3.3.4 divsion a/b"
   ]
  },
  {
   "cell_type": "code",
   "execution_count": 7,
   "metadata": {},
   "outputs": [
    {
     "name": "stdout",
     "output_type": "stream",
     "text": [
      "[ 0.2         0.33333333  0.42857143  0.5       ]\n",
      "[ 0.2         0.33333333  0.42857143  0.5       ]\n"
     ]
    }
   ],
   "source": [
    "print a1/b1\n",
    "print np.divide(a1,b1)"
   ]
  },
  {
   "cell_type": "markdown",
   "metadata": {},
   "source": [
    "### 3.3.5 modulo  a%b"
   ]
  },
  {
   "cell_type": "code",
   "execution_count": 8,
   "metadata": {},
   "outputs": [
    {
     "name": "stdout",
     "output_type": "stream",
     "text": [
      "[ 1.  2.  3.  4.]\n",
      "[ 1.  2.  3.  4.]\n"
     ]
    }
   ],
   "source": [
    "print a1%b1\n",
    "print np.mod(a1,b1)"
   ]
  },
  {
   "cell_type": "markdown",
   "metadata": {},
   "source": [
    "### 3.3.6 power  a^b"
   ]
  },
  {
   "cell_type": "code",
   "execution_count": 9,
   "metadata": {},
   "outputs": [
    {
     "name": "stdout",
     "output_type": "stream",
     "text": [
      "[  1.00000000e+00   6.40000000e+01   2.18700000e+03   6.55360000e+04]\n",
      "[  1.00000000e+00   6.40000000e+01   2.18700000e+03   6.55360000e+04]\n"
     ]
    }
   ],
   "source": [
    "print a1**b1\n",
    "print np.power(a1,b1)"
   ]
  },
  {
   "cell_type": "markdown",
   "metadata": {},
   "source": [
    "## Homework 3.4\n",
    "Find your own data and load it into a dataframe"
   ]
  },
  {
   "cell_type": "markdown",
   "metadata": {},
   "source": [
    "I got my data from Kaggle. \n",
    "\n",
    "https://www.kaggle.com/saurograndi/airplane-crashes-since-1908/data \n",
    "\n",
    "It contains data of airplane crashes and fatalities since 1908. It would be interesting to see how the number of crashes has varied over time with increase in technology and the number of flights increasing each year."
   ]
  },
  {
   "cell_type": "code",
   "execution_count": 64,
   "metadata": {},
   "outputs": [
    {
     "data": {
      "text/html": [
       "<div>\n",
       "<style>\n",
       "    .dataframe thead tr:only-child th {\n",
       "        text-align: right;\n",
       "    }\n",
       "\n",
       "    .dataframe thead th {\n",
       "        text-align: left;\n",
       "    }\n",
       "\n",
       "    .dataframe tbody tr th {\n",
       "        vertical-align: top;\n",
       "    }\n",
       "</style>\n",
       "<table border=\"1\" class=\"dataframe\">\n",
       "  <thead>\n",
       "    <tr style=\"text-align: right;\">\n",
       "      <th></th>\n",
       "      <th>Date</th>\n",
       "      <th>Time</th>\n",
       "      <th>Location</th>\n",
       "      <th>Operator</th>\n",
       "      <th>Flight #</th>\n",
       "      <th>Route</th>\n",
       "      <th>Type</th>\n",
       "      <th>Registration</th>\n",
       "      <th>cn/In</th>\n",
       "      <th>Aboard</th>\n",
       "      <th>Fatalities</th>\n",
       "      <th>Ground</th>\n",
       "      <th>Summary</th>\n",
       "    </tr>\n",
       "  </thead>\n",
       "  <tbody>\n",
       "    <tr>\n",
       "      <th>0</th>\n",
       "      <td>09/17/1908</td>\n",
       "      <td>17:18</td>\n",
       "      <td>Fort Myer, Virginia</td>\n",
       "      <td>Military - U.S. Army</td>\n",
       "      <td>NaN</td>\n",
       "      <td>Demonstration</td>\n",
       "      <td>Wright Flyer III</td>\n",
       "      <td>NaN</td>\n",
       "      <td>1</td>\n",
       "      <td>2.0</td>\n",
       "      <td>1.0</td>\n",
       "      <td>0.0</td>\n",
       "      <td>During a demonstration flight, a U.S. Army fly...</td>\n",
       "    </tr>\n",
       "    <tr>\n",
       "      <th>1</th>\n",
       "      <td>07/12/1912</td>\n",
       "      <td>06:30</td>\n",
       "      <td>AtlantiCity, New Jersey</td>\n",
       "      <td>Military - U.S. Navy</td>\n",
       "      <td>NaN</td>\n",
       "      <td>Test flight</td>\n",
       "      <td>Dirigible</td>\n",
       "      <td>NaN</td>\n",
       "      <td>NaN</td>\n",
       "      <td>5.0</td>\n",
       "      <td>5.0</td>\n",
       "      <td>0.0</td>\n",
       "      <td>First U.S. dirigible Akron exploded just offsh...</td>\n",
       "    </tr>\n",
       "    <tr>\n",
       "      <th>2</th>\n",
       "      <td>08/06/1913</td>\n",
       "      <td>NaN</td>\n",
       "      <td>Victoria, British Columbia, Canada</td>\n",
       "      <td>Private</td>\n",
       "      <td>-</td>\n",
       "      <td>NaN</td>\n",
       "      <td>Curtiss seaplane</td>\n",
       "      <td>NaN</td>\n",
       "      <td>NaN</td>\n",
       "      <td>1.0</td>\n",
       "      <td>1.0</td>\n",
       "      <td>0.0</td>\n",
       "      <td>The first fatal airplane accident in Canada oc...</td>\n",
       "    </tr>\n",
       "    <tr>\n",
       "      <th>3</th>\n",
       "      <td>09/09/1913</td>\n",
       "      <td>18:30</td>\n",
       "      <td>Over the North Sea</td>\n",
       "      <td>Military - German Navy</td>\n",
       "      <td>NaN</td>\n",
       "      <td>NaN</td>\n",
       "      <td>Zeppelin L-1 (airship)</td>\n",
       "      <td>NaN</td>\n",
       "      <td>NaN</td>\n",
       "      <td>20.0</td>\n",
       "      <td>14.0</td>\n",
       "      <td>0.0</td>\n",
       "      <td>The airship flew into a thunderstorm and encou...</td>\n",
       "    </tr>\n",
       "    <tr>\n",
       "      <th>4</th>\n",
       "      <td>10/17/1913</td>\n",
       "      <td>10:30</td>\n",
       "      <td>Near Johannisthal, Germany</td>\n",
       "      <td>Military - German Navy</td>\n",
       "      <td>NaN</td>\n",
       "      <td>NaN</td>\n",
       "      <td>Zeppelin L-2 (airship)</td>\n",
       "      <td>NaN</td>\n",
       "      <td>NaN</td>\n",
       "      <td>30.0</td>\n",
       "      <td>30.0</td>\n",
       "      <td>0.0</td>\n",
       "      <td>Hydrogen gas which was being vented was sucked...</td>\n",
       "    </tr>\n",
       "  </tbody>\n",
       "</table>\n",
       "</div>"
      ],
      "text/plain": [
       "         Date   Time                            Location  \\\n",
       "0  09/17/1908  17:18                 Fort Myer, Virginia   \n",
       "1  07/12/1912  06:30             AtlantiCity, New Jersey   \n",
       "2  08/06/1913    NaN  Victoria, British Columbia, Canada   \n",
       "3  09/09/1913  18:30                  Over the North Sea   \n",
       "4  10/17/1913  10:30          Near Johannisthal, Germany   \n",
       "\n",
       "                 Operator Flight #          Route                    Type  \\\n",
       "0    Military - U.S. Army      NaN  Demonstration        Wright Flyer III   \n",
       "1    Military - U.S. Navy      NaN    Test flight               Dirigible   \n",
       "2                 Private        -            NaN        Curtiss seaplane   \n",
       "3  Military - German Navy      NaN            NaN  Zeppelin L-1 (airship)   \n",
       "4  Military - German Navy      NaN            NaN  Zeppelin L-2 (airship)   \n",
       "\n",
       "  Registration cn/In  Aboard  Fatalities  Ground  \\\n",
       "0          NaN     1     2.0         1.0     0.0   \n",
       "1          NaN   NaN     5.0         5.0     0.0   \n",
       "2          NaN   NaN     1.0         1.0     0.0   \n",
       "3          NaN   NaN    20.0        14.0     0.0   \n",
       "4          NaN   NaN    30.0        30.0     0.0   \n",
       "\n",
       "                                             Summary  \n",
       "0  During a demonstration flight, a U.S. Army fly...  \n",
       "1  First U.S. dirigible Akron exploded just offsh...  \n",
       "2  The first fatal airplane accident in Canada oc...  \n",
       "3  The airship flew into a thunderstorm and encou...  \n",
       "4  Hydrogen gas which was being vented was sucked...  "
      ]
     },
     "execution_count": 64,
     "metadata": {},
     "output_type": "execute_result"
    }
   ],
   "source": [
    "#Airplane crash data \n",
    "apc = pd.read_csv('data/Airplane_Crashes.csv')\n",
    "apc.head()"
   ]
  },
  {
   "cell_type": "markdown",
   "metadata": {},
   "source": [
    "## Homework 3.5\n",
    "Provide an interesting analysis of the data columns ( frequency or averages )"
   ]
  },
  {
   "cell_type": "code",
   "execution_count": 65,
   "metadata": {},
   "outputs": [
    {
     "data": {
      "text/plain": [
       "(5268, 13)"
      ]
     },
     "execution_count": 65,
     "metadata": {},
     "output_type": "execute_result"
    }
   ],
   "source": [
    "apc.shape"
   ]
  },
  {
   "cell_type": "markdown",
   "metadata": {},
   "source": [
    "There are 5268 rows and 13 columns"
   ]
  },
  {
   "cell_type": "markdown",
   "metadata": {},
   "source": [
    "Lets add two columns that are substrings of the date. One will be year and the second will be the decade."
   ]
  },
  {
   "cell_type": "code",
   "execution_count": 90,
   "metadata": {
    "collapsed": true
   },
   "outputs": [],
   "source": [
    "apc[\"Year\"]=apc.Date.str[6:10]\n",
    "apc[\"Decade\"]=apc.Date.str[6:9]+\"0\""
   ]
  },
  {
   "cell_type": "code",
   "execution_count": 91,
   "metadata": {},
   "outputs": [
    {
     "data": {
      "text/html": [
       "<div>\n",
       "<style>\n",
       "    .dataframe thead tr:only-child th {\n",
       "        text-align: right;\n",
       "    }\n",
       "\n",
       "    .dataframe thead th {\n",
       "        text-align: left;\n",
       "    }\n",
       "\n",
       "    .dataframe tbody tr th {\n",
       "        vertical-align: top;\n",
       "    }\n",
       "</style>\n",
       "<table border=\"1\" class=\"dataframe\">\n",
       "  <thead>\n",
       "    <tr style=\"text-align: right;\">\n",
       "      <th></th>\n",
       "      <th>Date</th>\n",
       "      <th>Time</th>\n",
       "      <th>Location</th>\n",
       "      <th>Operator</th>\n",
       "      <th>Flight #</th>\n",
       "      <th>Route</th>\n",
       "      <th>Type</th>\n",
       "      <th>Registration</th>\n",
       "      <th>cn/In</th>\n",
       "      <th>Aboard</th>\n",
       "      <th>Fatalities</th>\n",
       "      <th>Ground</th>\n",
       "      <th>Summary</th>\n",
       "      <th>Year</th>\n",
       "      <th>Decade</th>\n",
       "    </tr>\n",
       "  </thead>\n",
       "  <tbody>\n",
       "    <tr>\n",
       "      <th>0</th>\n",
       "      <td>09/17/1908</td>\n",
       "      <td>17:18</td>\n",
       "      <td>Fort Myer, Virginia</td>\n",
       "      <td>Military - U.S. Army</td>\n",
       "      <td>NaN</td>\n",
       "      <td>Demonstration</td>\n",
       "      <td>Wright Flyer III</td>\n",
       "      <td>NaN</td>\n",
       "      <td>1</td>\n",
       "      <td>2.0</td>\n",
       "      <td>1.0</td>\n",
       "      <td>0.0</td>\n",
       "      <td>During a demonstration flight, a U.S. Army fly...</td>\n",
       "      <td>1908</td>\n",
       "      <td>1900</td>\n",
       "    </tr>\n",
       "    <tr>\n",
       "      <th>1</th>\n",
       "      <td>07/12/1912</td>\n",
       "      <td>06:30</td>\n",
       "      <td>AtlantiCity, New Jersey</td>\n",
       "      <td>Military - U.S. Navy</td>\n",
       "      <td>NaN</td>\n",
       "      <td>Test flight</td>\n",
       "      <td>Dirigible</td>\n",
       "      <td>NaN</td>\n",
       "      <td>NaN</td>\n",
       "      <td>5.0</td>\n",
       "      <td>5.0</td>\n",
       "      <td>0.0</td>\n",
       "      <td>First U.S. dirigible Akron exploded just offsh...</td>\n",
       "      <td>1912</td>\n",
       "      <td>1910</td>\n",
       "    </tr>\n",
       "    <tr>\n",
       "      <th>2</th>\n",
       "      <td>08/06/1913</td>\n",
       "      <td>NaN</td>\n",
       "      <td>Victoria, British Columbia, Canada</td>\n",
       "      <td>Private</td>\n",
       "      <td>-</td>\n",
       "      <td>NaN</td>\n",
       "      <td>Curtiss seaplane</td>\n",
       "      <td>NaN</td>\n",
       "      <td>NaN</td>\n",
       "      <td>1.0</td>\n",
       "      <td>1.0</td>\n",
       "      <td>0.0</td>\n",
       "      <td>The first fatal airplane accident in Canada oc...</td>\n",
       "      <td>1913</td>\n",
       "      <td>1910</td>\n",
       "    </tr>\n",
       "    <tr>\n",
       "      <th>3</th>\n",
       "      <td>09/09/1913</td>\n",
       "      <td>18:30</td>\n",
       "      <td>Over the North Sea</td>\n",
       "      <td>Military - German Navy</td>\n",
       "      <td>NaN</td>\n",
       "      <td>NaN</td>\n",
       "      <td>Zeppelin L-1 (airship)</td>\n",
       "      <td>NaN</td>\n",
       "      <td>NaN</td>\n",
       "      <td>20.0</td>\n",
       "      <td>14.0</td>\n",
       "      <td>0.0</td>\n",
       "      <td>The airship flew into a thunderstorm and encou...</td>\n",
       "      <td>1913</td>\n",
       "      <td>1910</td>\n",
       "    </tr>\n",
       "    <tr>\n",
       "      <th>4</th>\n",
       "      <td>10/17/1913</td>\n",
       "      <td>10:30</td>\n",
       "      <td>Near Johannisthal, Germany</td>\n",
       "      <td>Military - German Navy</td>\n",
       "      <td>NaN</td>\n",
       "      <td>NaN</td>\n",
       "      <td>Zeppelin L-2 (airship)</td>\n",
       "      <td>NaN</td>\n",
       "      <td>NaN</td>\n",
       "      <td>30.0</td>\n",
       "      <td>30.0</td>\n",
       "      <td>0.0</td>\n",
       "      <td>Hydrogen gas which was being vented was sucked...</td>\n",
       "      <td>1913</td>\n",
       "      <td>1910</td>\n",
       "    </tr>\n",
       "  </tbody>\n",
       "</table>\n",
       "</div>"
      ],
      "text/plain": [
       "         Date   Time                            Location  \\\n",
       "0  09/17/1908  17:18                 Fort Myer, Virginia   \n",
       "1  07/12/1912  06:30             AtlantiCity, New Jersey   \n",
       "2  08/06/1913    NaN  Victoria, British Columbia, Canada   \n",
       "3  09/09/1913  18:30                  Over the North Sea   \n",
       "4  10/17/1913  10:30          Near Johannisthal, Germany   \n",
       "\n",
       "                 Operator Flight #          Route                    Type  \\\n",
       "0    Military - U.S. Army      NaN  Demonstration        Wright Flyer III   \n",
       "1    Military - U.S. Navy      NaN    Test flight               Dirigible   \n",
       "2                 Private        -            NaN        Curtiss seaplane   \n",
       "3  Military - German Navy      NaN            NaN  Zeppelin L-1 (airship)   \n",
       "4  Military - German Navy      NaN            NaN  Zeppelin L-2 (airship)   \n",
       "\n",
       "  Registration cn/In  Aboard  Fatalities  Ground  \\\n",
       "0          NaN     1     2.0         1.0     0.0   \n",
       "1          NaN   NaN     5.0         5.0     0.0   \n",
       "2          NaN   NaN     1.0         1.0     0.0   \n",
       "3          NaN   NaN    20.0        14.0     0.0   \n",
       "4          NaN   NaN    30.0        30.0     0.0   \n",
       "\n",
       "                                             Summary  Year Decade  \n",
       "0  During a demonstration flight, a U.S. Army fly...  1908   1900  \n",
       "1  First U.S. dirigible Akron exploded just offsh...  1912   1910  \n",
       "2  The first fatal airplane accident in Canada oc...  1913   1910  \n",
       "3  The airship flew into a thunderstorm and encou...  1913   1910  \n",
       "4  Hydrogen gas which was being vented was sucked...  1913   1910  "
      ]
     },
     "execution_count": 91,
     "metadata": {},
     "output_type": "execute_result"
    }
   ],
   "source": [
    "apc.head()"
   ]
  },
  {
   "cell_type": "markdown",
   "metadata": {},
   "source": [
    "Now that we have decades, lets count the number of crashes for each decade."
   ]
  },
  {
   "cell_type": "code",
   "execution_count": 93,
   "metadata": {},
   "outputs": [
    {
     "data": {
      "text/plain": [
       "1970    837\n",
       "1990    775\n",
       "1960    721\n",
       "1980    717\n",
       "1950    596\n",
       "2000    583\n",
       "1940    510\n",
       "1930    323\n",
       "1920    178\n",
       "1910     27\n",
       "1900      1\n",
       "Name: Decade, dtype: int64"
      ]
     },
     "execution_count": 93,
     "metadata": {},
     "output_type": "execute_result"
    }
   ],
   "source": [
    "pd.value_counts(apc.Decade)"
   ]
  },
  {
   "cell_type": "markdown",
   "metadata": {
    "collapsed": true
   },
   "source": [
    "We can see that the largest number of crashes occured in the 1970s. Something interesting is that 1990 is the second highest. Maybe this is becasue there was a larger number of flights in that decade compared to those decades before. Something worth noting is that the number of crashes significantly decreases in the 2000's, we can infer this happended because of increase in technology and safty measurements."
   ]
  }
 ],
 "metadata": {
  "kernelspec": {
   "display_name": "Python 2",
   "language": "python",
   "name": "python2"
  },
  "language_info": {
   "codemirror_mode": {
    "name": "ipython",
    "version": 2
   },
   "file_extension": ".py",
   "mimetype": "text/x-python",
   "name": "python",
   "nbconvert_exporter": "python",
   "pygments_lexer": "ipython2",
   "version": "2.7.13"
  }
 },
 "nbformat": 4,
 "nbformat_minor": 1
}
